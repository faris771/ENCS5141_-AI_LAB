{
 "nbformat": 4,
 "nbformat_minor": 0,
 "metadata": {
  "colab": {
   "provenance": []
  },
  "kernelspec": {
   "name": "python3",
   "display_name": "Python 3 (ipykernel)",
   "language": "python"
  },
  "language_info": {
   "name": "python"
  }
 },
 "cells": [
  {
   "cell_type": "markdown",
   "source": "## EXPLORATORY DATA ANALYSIS – FEATURE ENGINEERING",
   "metadata": {
    "id": "mkRHIvM06yZJ"
   }
  },
  {
   "cell_type": "markdown",
   "source": [
    "# Experiment #3: Feature Engineering\n",
    "\n",
    "This experiment focuses on discussing concepts and implementing code snippets to demonstrate various techniques used for feature engineering. These steps are vital in preparing data for machine learning and analysis. Throughout the experiment, you will also work on exercises to apply your knowledge and develop essential skills. The topics that will be discussed in the experiment are\n",
    "\n",
    "## 3.1 Data Transformation\n",
    "3.1.1 Scalling \n",
    "3.1.2 Discreateization \n",
    "3.1.3 Encoding \n",
    "\n",
    "## 3.2 Handling High-Dimensional Data\n",
    "3.2.1 Principal Component Analysis "
   ],
   "metadata": {
    "id": "pFB412fkroLI"
   }
  },
  {
   "cell_type": "markdown",
   "source": "# 3.1 Data Transformation\n",
   "metadata": {
    "id": "UzrzNdSYKiqc"
   }
  },
  {
   "cell_type": "markdown",
   "source": [
    "Data Transformation is a crucial step in the data preprocessing phase of machine learning. It involves a series of operations aimed at preparing raw data into a format that is suitable for training and evaluating machine learning models. Data transformation encompasses several key processes, including scaling, normalization, discretization, and encoding, each serving its purpose in enhancing the quality and usability of the data. Here's a description of these data transformation techniques:\n",
    "\n",
    "- **Scaling**: This method involves transforming numerical features to a common scale without changing their relative relationships. This is particularly important for algorithms that are sensitive to the magnitude of features. Scaling is applied to ensure that no single feature dominates the learning process due to its larger magnitude. The Min-Max scaling is a commonly used method in which features are scaled to a specific range, often [0, 1]. The standardization is another type of scaling that transforms numerical features to have a a zero mean and unity variance (mean=0, standard deviation=1).\n",
    "\n",
    "- **Discretization**: This method involves converting continuous numerical data into discrete categories or bins. This is particularly useful when you want to transform numeric data into categorical or ordinal data. Discretization can simplify complex numerical data and make it suitable for algorithms that work with categorical or ordinal features. Some common techniques include equal-width binning (dividing the data into equal-width intervals) and equal-frequency binning (ensuring each bin contains approximately the same number of data points).\n",
    "\n",
    "- **Encoding**: Encoding is the process of converting categorical data (text or labels) into a numerical format that machine learning models can understand. It allows algorithms to work with non-numeric data Some common encoding methods include **one-hot encoding** (creating binary columns for each category), **label encoding** (assigning a unique integer to each category), and **ordinal encoding** (mapping ordinal categories to numerical values)."
   ],
   "metadata": {
    "id": "fPwH-Cv7LijH"
   }
  },
  {
   "cell_type": "markdown",
   "source": [
    "## 3.1.1 Scaling"
   ],
   "metadata": {
    "id": "cSjUJUxTOkY1"
   }
  },
  {
   "cell_type": "markdown",
   "source": [
    "To demonstrate the Scaling method, let us start with synthetic data as presented in the code snippet below."
   ],
   "metadata": {
    "id": "kOxE-CruoGm1"
   }
  },
  {
   "cell_type": "code",
   "source": [
    "import numpy as np\n",
    "import pandas as pd\n",
    "\n",
    "#To generate an array of floating numbers between -2 and 2\n",
    "A = np.random.random(1000)*4 - 2\n",
    "\n",
    "#To generate an array of floating numbers between -10 and 10\n",
    "B = np.random.random(1000)*20 - 10\n",
    "\n",
    "#To generate an array of floating numbers between 0 and 1\n",
    "C = np.random.random(1000)\n",
    "\n",
    "#To generate an array of floating numbers between 0 and 10\n",
    "D = np.random.random(1000)*10\n",
    "\n",
    "df = pd.DataFrame({'A':A,'B':B,'C':C,'D':D})\n",
    "df.head()"
   ],
   "metadata": {
    "colab": {
     "base_uri": "https://localhost:8080/",
     "height": 206
    },
    "id": "8TK6gRX5OvlC",
    "outputId": "33a64fd4-b531-4d3d-ba0f-d77082021179",
    "ExecuteTime": {
     "end_time": "2024-07-22T11:24:08.645148Z",
     "start_time": "2024-07-22T11:24:08.487595Z"
    }
   },
   "outputs": [
    {
     "data": {
      "text/plain": [
       "          A         B         C         D\n",
       "0  0.338675 -6.166560  0.826978  7.003757\n",
       "1  1.541766  2.348425  0.601016  6.647401\n",
       "2 -0.253636 -8.689777  0.774499  2.804732\n",
       "3  0.011278  2.675316  0.490189  9.954588\n",
       "4 -0.691350  9.233500  0.469210  0.414157"
      ],
      "text/html": [
       "<div>\n",
       "<style scoped>\n",
       "    .dataframe tbody tr th:only-of-type {\n",
       "        vertical-align: middle;\n",
       "    }\n",
       "\n",
       "    .dataframe tbody tr th {\n",
       "        vertical-align: top;\n",
       "    }\n",
       "\n",
       "    .dataframe thead th {\n",
       "        text-align: right;\n",
       "    }\n",
       "</style>\n",
       "<table border=\"1\" class=\"dataframe\">\n",
       "  <thead>\n",
       "    <tr style=\"text-align: right;\">\n",
       "      <th></th>\n",
       "      <th>A</th>\n",
       "      <th>B</th>\n",
       "      <th>C</th>\n",
       "      <th>D</th>\n",
       "    </tr>\n",
       "  </thead>\n",
       "  <tbody>\n",
       "    <tr>\n",
       "      <th>0</th>\n",
       "      <td>0.338675</td>\n",
       "      <td>-6.166560</td>\n",
       "      <td>0.826978</td>\n",
       "      <td>7.003757</td>\n",
       "    </tr>\n",
       "    <tr>\n",
       "      <th>1</th>\n",
       "      <td>1.541766</td>\n",
       "      <td>2.348425</td>\n",
       "      <td>0.601016</td>\n",
       "      <td>6.647401</td>\n",
       "    </tr>\n",
       "    <tr>\n",
       "      <th>2</th>\n",
       "      <td>-0.253636</td>\n",
       "      <td>-8.689777</td>\n",
       "      <td>0.774499</td>\n",
       "      <td>2.804732</td>\n",
       "    </tr>\n",
       "    <tr>\n",
       "      <th>3</th>\n",
       "      <td>0.011278</td>\n",
       "      <td>2.675316</td>\n",
       "      <td>0.490189</td>\n",
       "      <td>9.954588</td>\n",
       "    </tr>\n",
       "    <tr>\n",
       "      <th>4</th>\n",
       "      <td>-0.691350</td>\n",
       "      <td>9.233500</td>\n",
       "      <td>0.469210</td>\n",
       "      <td>0.414157</td>\n",
       "    </tr>\n",
       "  </tbody>\n",
       "</table>\n",
       "</div>"
      ]
     },
     "execution_count": 1,
     "metadata": {},
     "output_type": "execute_result"
    }
   ],
   "execution_count": 1
  },
  {
   "cell_type": "markdown",
   "source": [
    "Let's also display some statistics about this synthetic data."
   ],
   "metadata": {
    "id": "xFoLXxSSbJ8r"
   }
  },
  {
   "cell_type": "code",
   "source": [
    "df.describe()"
   ],
   "metadata": {
    "colab": {
     "base_uri": "https://localhost:8080/",
     "height": 300
    },
    "id": "66NXIgM4bKhh",
    "outputId": "6d1f3f3f-0312-472d-e1c5-7953c413fefc",
    "ExecuteTime": {
     "end_time": "2024-07-22T11:24:08.985842Z",
     "start_time": "2024-07-22T11:24:08.945983Z"
    }
   },
   "outputs": [
    {
     "data": {
      "text/plain": [
       "                 A            B            C            D\n",
       "count  1000.000000  1000.000000  1000.000000  1000.000000\n",
       "mean     -0.022142     0.076927     0.509243     5.038420\n",
       "std       1.166462     5.774541     0.290732     2.906106\n",
       "min      -1.993792    -9.992327     0.000173     0.002108\n",
       "25%      -1.056737    -5.060559     0.265878     2.477978\n",
       "50%      -0.051229     0.177955     0.519930     4.969198\n",
       "75%       0.977497     4.993011     0.754953     7.568459\n",
       "max       1.998351     9.988714     0.998173     9.997563"
      ],
      "text/html": [
       "<div>\n",
       "<style scoped>\n",
       "    .dataframe tbody tr th:only-of-type {\n",
       "        vertical-align: middle;\n",
       "    }\n",
       "\n",
       "    .dataframe tbody tr th {\n",
       "        vertical-align: top;\n",
       "    }\n",
       "\n",
       "    .dataframe thead th {\n",
       "        text-align: right;\n",
       "    }\n",
       "</style>\n",
       "<table border=\"1\" class=\"dataframe\">\n",
       "  <thead>\n",
       "    <tr style=\"text-align: right;\">\n",
       "      <th></th>\n",
       "      <th>A</th>\n",
       "      <th>B</th>\n",
       "      <th>C</th>\n",
       "      <th>D</th>\n",
       "    </tr>\n",
       "  </thead>\n",
       "  <tbody>\n",
       "    <tr>\n",
       "      <th>count</th>\n",
       "      <td>1000.000000</td>\n",
       "      <td>1000.000000</td>\n",
       "      <td>1000.000000</td>\n",
       "      <td>1000.000000</td>\n",
       "    </tr>\n",
       "    <tr>\n",
       "      <th>mean</th>\n",
       "      <td>-0.022142</td>\n",
       "      <td>0.076927</td>\n",
       "      <td>0.509243</td>\n",
       "      <td>5.038420</td>\n",
       "    </tr>\n",
       "    <tr>\n",
       "      <th>std</th>\n",
       "      <td>1.166462</td>\n",
       "      <td>5.774541</td>\n",
       "      <td>0.290732</td>\n",
       "      <td>2.906106</td>\n",
       "    </tr>\n",
       "    <tr>\n",
       "      <th>min</th>\n",
       "      <td>-1.993792</td>\n",
       "      <td>-9.992327</td>\n",
       "      <td>0.000173</td>\n",
       "      <td>0.002108</td>\n",
       "    </tr>\n",
       "    <tr>\n",
       "      <th>25%</th>\n",
       "      <td>-1.056737</td>\n",
       "      <td>-5.060559</td>\n",
       "      <td>0.265878</td>\n",
       "      <td>2.477978</td>\n",
       "    </tr>\n",
       "    <tr>\n",
       "      <th>50%</th>\n",
       "      <td>-0.051229</td>\n",
       "      <td>0.177955</td>\n",
       "      <td>0.519930</td>\n",
       "      <td>4.969198</td>\n",
       "    </tr>\n",
       "    <tr>\n",
       "      <th>75%</th>\n",
       "      <td>0.977497</td>\n",
       "      <td>4.993011</td>\n",
       "      <td>0.754953</td>\n",
       "      <td>7.568459</td>\n",
       "    </tr>\n",
       "    <tr>\n",
       "      <th>max</th>\n",
       "      <td>1.998351</td>\n",
       "      <td>9.988714</td>\n",
       "      <td>0.998173</td>\n",
       "      <td>9.997563</td>\n",
       "    </tr>\n",
       "  </tbody>\n",
       "</table>\n",
       "</div>"
      ]
     },
     "execution_count": 2,
     "metadata": {},
     "output_type": "execute_result"
    }
   ],
   "execution_count": 2
  },
  {
   "cell_type": "markdown",
   "source": [
    "As can be observed, the range of values for each feature is different. To scale the data, we will use the **MinMaxScaler()** from sklearn. This method takes the intended minimum and maximum values of the scaled data as a tuple argument (min, max), which is set to (0, 1) by default."
   ],
   "metadata": {
    "id": "5A-wlhH3awVb"
   }
  },
  {
   "cell_type": "code",
   "source": [
    "from sklearn.preprocessing import MinMaxScaler\n",
    "scaler = MinMaxScaler()\n",
    "scaler.fit(df)\n",
    "data = scaler.transform(df)\n",
    "df_scaler = pd.DataFrame(data,columns=list('ABCD'))\n",
    "df_scaler.describe()"
   ],
   "metadata": {
    "colab": {
     "base_uri": "https://localhost:8080/",
     "height": 300
    },
    "id": "FoSCR9URa-bS",
    "outputId": "cddc7e73-f70a-4009-fa08-8ac989fa1b1a",
    "ExecuteTime": {
     "end_time": "2024-07-22T11:24:10.010339Z",
     "start_time": "2024-07-22T11:24:09.045386Z"
    }
   },
   "outputs": [
    {
     "data": {
      "text/plain": [
       "                 A            B            C            D\n",
       "count  1000.000000  1000.000000  1000.000000  1000.000000\n",
       "mean      0.493883     0.503940     0.510090     0.503860\n",
       "std       0.292189     0.289001     0.291315     0.290743\n",
       "min       0.000000     0.000000     0.000000     0.000000\n",
       "25%       0.234725     0.246822     0.266237     0.247700\n",
       "50%       0.486596     0.508997     0.520798     0.496935\n",
       "75%       0.744284     0.749978     0.756292     0.756979\n",
       "max       1.000000     1.000000     1.000000     1.000000"
      ],
      "text/html": [
       "<div>\n",
       "<style scoped>\n",
       "    .dataframe tbody tr th:only-of-type {\n",
       "        vertical-align: middle;\n",
       "    }\n",
       "\n",
       "    .dataframe tbody tr th {\n",
       "        vertical-align: top;\n",
       "    }\n",
       "\n",
       "    .dataframe thead th {\n",
       "        text-align: right;\n",
       "    }\n",
       "</style>\n",
       "<table border=\"1\" class=\"dataframe\">\n",
       "  <thead>\n",
       "    <tr style=\"text-align: right;\">\n",
       "      <th></th>\n",
       "      <th>A</th>\n",
       "      <th>B</th>\n",
       "      <th>C</th>\n",
       "      <th>D</th>\n",
       "    </tr>\n",
       "  </thead>\n",
       "  <tbody>\n",
       "    <tr>\n",
       "      <th>count</th>\n",
       "      <td>1000.000000</td>\n",
       "      <td>1000.000000</td>\n",
       "      <td>1000.000000</td>\n",
       "      <td>1000.000000</td>\n",
       "    </tr>\n",
       "    <tr>\n",
       "      <th>mean</th>\n",
       "      <td>0.493883</td>\n",
       "      <td>0.503940</td>\n",
       "      <td>0.510090</td>\n",
       "      <td>0.503860</td>\n",
       "    </tr>\n",
       "    <tr>\n",
       "      <th>std</th>\n",
       "      <td>0.292189</td>\n",
       "      <td>0.289001</td>\n",
       "      <td>0.291315</td>\n",
       "      <td>0.290743</td>\n",
       "    </tr>\n",
       "    <tr>\n",
       "      <th>min</th>\n",
       "      <td>0.000000</td>\n",
       "      <td>0.000000</td>\n",
       "      <td>0.000000</td>\n",
       "      <td>0.000000</td>\n",
       "    </tr>\n",
       "    <tr>\n",
       "      <th>25%</th>\n",
       "      <td>0.234725</td>\n",
       "      <td>0.246822</td>\n",
       "      <td>0.266237</td>\n",
       "      <td>0.247700</td>\n",
       "    </tr>\n",
       "    <tr>\n",
       "      <th>50%</th>\n",
       "      <td>0.486596</td>\n",
       "      <td>0.508997</td>\n",
       "      <td>0.520798</td>\n",
       "      <td>0.496935</td>\n",
       "    </tr>\n",
       "    <tr>\n",
       "      <th>75%</th>\n",
       "      <td>0.744284</td>\n",
       "      <td>0.749978</td>\n",
       "      <td>0.756292</td>\n",
       "      <td>0.756979</td>\n",
       "    </tr>\n",
       "    <tr>\n",
       "      <th>max</th>\n",
       "      <td>1.000000</td>\n",
       "      <td>1.000000</td>\n",
       "      <td>1.000000</td>\n",
       "      <td>1.000000</td>\n",
       "    </tr>\n",
       "  </tbody>\n",
       "</table>\n",
       "</div>"
      ]
     },
     "execution_count": 3,
     "metadata": {},
     "output_type": "execute_result"
    }
   ],
   "execution_count": 3
  },
  {
   "cell_type": "markdown",
   "source": [
    "After scaling, all features are scaled between 0 and 1. Let's plot the distribution of the original and scaled data."
   ],
   "metadata": {
    "id": "2MXlEvdcfNtE"
   }
  },
  {
   "cell_type": "code",
   "source": [
    "import matplotlib.pyplot as plt\n",
    "import seaborn as sns\n",
    "fig, axs = plt.subplots(figsize=(18, 5),ncols=4,nrows=2)\n",
    "\n",
    "sns.histplot(data=df, x=\"A\", ax=axs[0,0], kde=True);axs[0,0].set_title(f\"Original A\")\n",
    "sns.histplot(data=df, x=\"B\", ax=axs[0,1], kde=True);axs[0,1].set_title(f\"Original B\")\n",
    "sns.histplot(data=df, x=\"C\", ax=axs[0,2], kde=True);axs[0,2].set_title(f\"Original C\")\n",
    "sns.histplot(data=df, x=\"D\", ax=axs[0,3], kde=True);axs[0,3].set_title(f\"Original D\")\n",
    "\n",
    "sns.histplot(data=df_scaler, x=\"A\", ax=axs[1,0], kde=True);axs[1,0].set_title(f\"Scalled A\")\n",
    "sns.histplot(data=df_scaler, x=\"B\", ax=axs[1,1], kde=True);axs[1,1].set_title(f\"Scalled B\")\n",
    "sns.histplot(data=df_scaler, x=\"C\", ax=axs[1,2], kde=True);axs[1,2].set_title(f\"Scalled C\")\n",
    "sns.histplot(data=df_scaler, x=\"D\", ax=axs[1,3], kde=True);axs[1,3].set_title(f\"Scalled D\")\n",
    "\n",
    "fig.subplots_adjust(hspace=1)"
   ],
   "metadata": {
    "colab": {
     "base_uri": "https://localhost:8080/",
     "height": 487
    },
    "id": "nFk0vmeFgPxR",
    "outputId": "1ae63fbe-f137-4051-e9b7-8b063d4e39b0",
    "ExecuteTime": {
     "end_time": "2024-07-22T11:24:15.017363Z",
     "start_time": "2024-07-22T11:24:10.013820Z"
    }
   },
   "outputs": [
    {
     "data": {
      "text/plain": [
       "<Figure size 1800x500 with 8 Axes>"
      ],
      "image/png": "[encoded data removed]"
     },
     "metadata": {},
     "output_type": "display_data"
    }
   ],
   "execution_count": 4
  },
  {
   "cell_type": "markdown",
   "source": [
    "The histogram plots illustrate that scaling did not alter the distribution of the features but did affect the range of their values."
   ],
   "metadata": {
    "id": "XB2qyC4AhTaz"
   }
  },
  {
   "cell_type": "markdown",
   "source": [
    "To illustrate the significance of feature scaling in many machine learning scenarios, consider the data within the **ENCS5141_Exp3_Mall_Customers.csv** file, available in the GitHub repository at https://github.com/mkjubran/ENCS5141Datasets. This dataset includes the annual income and spending score of numerous mall customers. As before, we will initiate by cloning the GitHub repository. You may skip this step if the repository has already been cloned"
   ],
   "metadata": {
    "id": "jwRHE-UIlj4W"
   }
  },
  {
   "cell_type": "code",
   "source": [
    "!rm -rf ./ENCS5141Datasets\n",
    "!git clone https://github.com/mkjubran/ENCS5141Datasets.git"
   ],
   "metadata": {
    "colab": {
     "base_uri": "https://localhost:8080/"
    },
    "id": "NUFmR5O5okNT",
    "outputId": "c0bf1e38-0350-4157-b88a-3ce8f166a8c1",
    "ExecuteTime": {
     "end_time": "2024-07-22T11:24:47.533797Z",
     "start_time": "2024-07-22T11:24:15.019842Z"
    }
   },
   "outputs": [
    {
     "name": "stdout",
     "output_type": "stream",
     "text": [
      "Cloning into 'ENCS5141Datasets'...\r\n",
      "remote: Enumerating objects: 60, done.\u001B[K\r\n",
      "remote: Counting objects: 100% (60/60), done.\u001B[KK\r\n",
      "remote: Compressing objects: 100% (51/51), done.\u001B[K\r\n",
      "Receiving objects:  95% (57/60), 22.79 MiB | 777.00 KiB/s\rReceiving objects:  38% (23/60), 4.21 MiB | 1.04 MiB/s  Receiving objects:  38% (23/60), 7.04 MiB | 1.29 MiB/sReceiving objects:  38% (23/60), 9.63 MiB | 1.32 MiB/sReceiving objects:  38% (23/60), 11.02 MiB | 1.02 MiB/sReceiving objects:  38% (23/60), 12.36 MiB | 704.00 KiB/sReceiving objects:  38% (23/60), 13.57 MiB | 632.00 KiB/sReceiving objects:  38% (23/60), 14.87 MiB | 628.00 KiB/sReceiving objects:  38% (23/60), 16.25 MiB | 671.00 KiB/sReceiving objects:  38% (23/60), 17.41 MiB | 637.00 KiB/sReceiving objects:  38% (23/60), 18.43 MiB | 555.00 KiB/sReceiving objects:  38% (23/60), 19.31 MiB | 538.00 KiB/sReceiving objects:  40% (24/60), 20.02 MiB | 575.00 KiB/sReceiving objects:  41% (25/60), 20.74 MiB | 601.00 KiB/sReceiving objects:  45% (27/60), 20.74 MiB | 601.00 KiB/sReceiving objects:  50% (30/60), 20.74 MiB | 601.00 KiB/sReceiving objects:  76% (46/60), 21.12 MiB | 641.00 KiB/sReceiving objects:  78% (47/60), 21.52 MiB | 681.00 KiB/sReceiving objects:  83% (50/60), 21.52 MiB | 681.00 KiB/sReceiving objects:  86% (52/60), 21.96 MiB | 740.00 KiB/sReceiving objects:  93% (56/60), 22.79 MiB | 777.00 KiB/sremote: Total 60 (delta 14), reused 50 (delta 7), pack-reused 0\u001B[K\r\n",
      "Receiving objects: 100% (60/60), 22.99 MiB | 815.00 KiB/s, done.\r\n",
      "Resolving deltas: 100% (14/14), done.\r\n",
      "Updating files: 100% (10/10), done.\r\n"
     ]
    }
   ],
   "execution_count": 5
  },
  {
   "cell_type": "markdown",
   "source": [
    "To read the file and display information about the features run the following code"
   ],
   "metadata": {
    "id": "I-Iw5rNpoozk"
   }
  },
  {
   "cell_type": "code",
   "source": [
    "import pandas as pd\n",
    "df = pd.read_csv(\"./ENCS5141Datasets/ENCS5141_Exp3_Mall_Customers.csv\", index_col=0)\n",
    "df.head()"
   ],
   "metadata": {
    "colab": {
     "base_uri": "https://localhost:8080/",
     "height": 300
    },
    "id": "_IQozrgrowk3",
    "outputId": "072728de-a998-4985-9a4a-2dcf36377263",
    "ExecuteTime": {
     "end_time": "2024-07-22T11:36:18.753683Z",
     "start_time": "2024-07-22T11:36:18.742366Z"
    }
   },
   "outputs": [
    {
     "data": {
      "text/plain": [
       "            Annual Income  Spending Score\n",
       "CustomerID                               \n",
       "1                   15000              30\n",
       "2                   15000              81\n",
       "3                   16000               6\n",
       "4                   16000              77\n",
       "5                   17000              33"
      ],
      "text/html": [
       "<div>\n",
       "<style scoped>\n",
       "    .dataframe tbody tr th:only-of-type {\n",
       "        vertical-align: middle;\n",
       "    }\n",
       "\n",
       "    .dataframe tbody tr th {\n",
       "        vertical-align: top;\n",
       "    }\n",
       "\n",
       "    .dataframe thead th {\n",
       "        text-align: right;\n",
       "    }\n",
       "</style>\n",
       "<table border=\"1\" class=\"dataframe\">\n",
       "  <thead>\n",
       "    <tr style=\"text-align: right;\">\n",
       "      <th></th>\n",
       "      <th>Annual Income</th>\n",
       "      <th>Spending Score</th>\n",
       "    </tr>\n",
       "    <tr>\n",
       "      <th>CustomerID</th>\n",
       "      <th></th>\n",
       "      <th></th>\n",
       "    </tr>\n",
       "  </thead>\n",
       "  <tbody>\n",
       "    <tr>\n",
       "      <th>1</th>\n",
       "      <td>15000</td>\n",
       "      <td>30</td>\n",
       "    </tr>\n",
       "    <tr>\n",
       "      <th>2</th>\n",
       "      <td>15000</td>\n",
       "      <td>81</td>\n",
       "    </tr>\n",
       "    <tr>\n",
       "      <th>3</th>\n",
       "      <td>16000</td>\n",
       "      <td>6</td>\n",
       "    </tr>\n",
       "    <tr>\n",
       "      <th>4</th>\n",
       "      <td>16000</td>\n",
       "      <td>77</td>\n",
       "    </tr>\n",
       "    <tr>\n",
       "      <th>5</th>\n",
       "      <td>17000</td>\n",
       "      <td>33</td>\n",
       "    </tr>\n",
       "  </tbody>\n",
       "</table>\n",
       "</div>"
      ]
     },
     "execution_count": 10,
     "metadata": {},
     "output_type": "execute_result"
    }
   ],
   "execution_count": 10
  },
  {
   "metadata": {},
   "cell_type": "code",
   "outputs": [
    {
     "data": {
      "text/plain": [
       "       Annual Income  Spending Score\n",
       "count      30.000000       30.000000\n",
       "mean    21433.333333       50.866667\n",
       "std      4452.301484       33.053492\n",
       "min     15000.000000        3.000000\n",
       "25%     18250.000000       18.500000\n",
       "50%     20000.000000       53.500000\n",
       "75%     24750.000000       78.500000\n",
       "max     29000.000000       99.000000"
      ],
      "text/html": [
       "<div>\n",
       "<style scoped>\n",
       "    .dataframe tbody tr th:only-of-type {\n",
       "        vertical-align: middle;\n",
       "    }\n",
       "\n",
       "    .dataframe tbody tr th {\n",
       "        vertical-align: top;\n",
       "    }\n",
       "\n",
       "    .dataframe thead th {\n",
       "        text-align: right;\n",
       "    }\n",
       "</style>\n",
       "<table border=\"1\" class=\"dataframe\">\n",
       "  <thead>\n",
       "    <tr style=\"text-align: right;\">\n",
       "      <th></th>\n",
       "      <th>Annual Income</th>\n",
       "      <th>Spending Score</th>\n",
       "    </tr>\n",
       "  </thead>\n",
       "  <tbody>\n",
       "    <tr>\n",
       "      <th>count</th>\n",
       "      <td>30.000000</td>\n",
       "      <td>30.000000</td>\n",
       "    </tr>\n",
       "    <tr>\n",
       "      <th>mean</th>\n",
       "      <td>21433.333333</td>\n",
       "      <td>50.866667</td>\n",
       "    </tr>\n",
       "    <tr>\n",
       "      <th>std</th>\n",
       "      <td>4452.301484</td>\n",
       "      <td>33.053492</td>\n",
       "    </tr>\n",
       "    <tr>\n",
       "      <th>min</th>\n",
       "      <td>15000.000000</td>\n",
       "      <td>3.000000</td>\n",
       "    </tr>\n",
       "    <tr>\n",
       "      <th>25%</th>\n",
       "      <td>18250.000000</td>\n",
       "      <td>18.500000</td>\n",
       "    </tr>\n",
       "    <tr>\n",
       "      <th>50%</th>\n",
       "      <td>20000.000000</td>\n",
       "      <td>53.500000</td>\n",
       "    </tr>\n",
       "    <tr>\n",
       "      <th>75%</th>\n",
       "      <td>24750.000000</td>\n",
       "      <td>78.500000</td>\n",
       "    </tr>\n",
       "    <tr>\n",
       "      <th>max</th>\n",
       "      <td>29000.000000</td>\n",
       "      <td>99.000000</td>\n",
       "    </tr>\n",
       "  </tbody>\n",
       "</table>\n",
       "</div>"
      ]
     },
     "execution_count": 7,
     "metadata": {},
     "output_type": "execute_result"
    }
   ],
   "execution_count": 7,
   "source": [
    "\n",
    "df.describe()"
   ]
  },
  {
   "cell_type": "markdown",
   "source": [
    "As can be observed, the Annual Income feature has a range in the thousands, whereas the Spending Score is in tens."
   ],
   "metadata": {
    "id": "XQKtW0oNqIys"
   }
  },
  {
   "cell_type": "markdown",
   "source": [
    "To investigate the impact of the scalling on machine learning, we will compare the performance of the machine learning models with and without feature scalling. In this context, we will use the K-Means classifier to cluster the data into groups. The classifier will be discussed in detail in subsequent experimental sessions."
   ],
   "metadata": {
    "id": "yFGd2yjMiCl6"
   }
  },
  {
   "cell_type": "code",
   "source": [
    "# Import the KMeans class from the sklearn.cluster module\n",
    "from sklearn.cluster import KMeans\n",
    "\n",
    "# Create a KMeans object with the desired number of clusters (4 in this case)\n",
    "km = KMeans(n_clusters=4)\n",
    "\n",
    "# Fit the KMeans model to the data, using the 'Annual Income' and 'Spending Score' columns as features\n",
    "km.fit(df[['Annual Income', 'Spending Score']])\n",
    "\n",
    "# Predict the cluster labels for each data point based on the fitted model\n",
    "cluster = km.predict(df[['Annual Income', 'Spending Score']])\n",
    "\n",
    "# Create a new column 'cluster' in the DataFrame to store the predicted cluster labels\n",
    "df['cluster'] = cluster\n",
    "\n",
    "# Display the first few rows of the DataFrame with the 'cluster' column added\n",
    "df.head()"
   ],
   "metadata": {
    "colab": {
     "base_uri": "https://localhost:8080/",
     "height": 292
    },
    "id": "Hwhj8OiitH5q",
    "outputId": "4e52fc73-be28-4be8-a83d-42ad3183a1dc",
    "ExecuteTime": {
     "end_time": "2024-07-22T11:39:08.019100Z",
     "start_time": "2024-07-22T11:39:05.931324Z"
    }
   },
   "outputs": [
    {
     "name": "stderr",
     "output_type": "stream",
     "text": [
      "/home/faris/.local/lib/python3.10/site-packages/sklearn/cluster/_kmeans.py:1416: FutureWarning: The default value of `n_init` will change from 10 to 'auto' in 1.4. Set the value of `n_init` explicitly to suppress the warning\n",
      "  super()._check_params_vs_input(X, default_n_init=10)\n"
     ]
    },
    {
     "data": {
      "text/plain": [
       "            Annual Income  Spending Score  cluster\n",
       "CustomerID                                        \n",
       "1                   15000              30        0\n",
       "2                   15000              81        0\n",
       "3                   16000               6        0\n",
       "4                   16000              77        0\n",
       "5                   17000              33        0"
      ],
      "text/html": [
       "<div>\n",
       "<style scoped>\n",
       "    .dataframe tbody tr th:only-of-type {\n",
       "        vertical-align: middle;\n",
       "    }\n",
       "\n",
       "    .dataframe tbody tr th {\n",
       "        vertical-align: top;\n",
       "    }\n",
       "\n",
       "    .dataframe thead th {\n",
       "        text-align: right;\n",
       "    }\n",
       "</style>\n",
       "<table border=\"1\" class=\"dataframe\">\n",
       "  <thead>\n",
       "    <tr style=\"text-align: right;\">\n",
       "      <th></th>\n",
       "      <th>Annual Income</th>\n",
       "      <th>Spending Score</th>\n",
       "      <th>cluster</th>\n",
       "    </tr>\n",
       "    <tr>\n",
       "      <th>CustomerID</th>\n",
       "      <th></th>\n",
       "      <th></th>\n",
       "      <th></th>\n",
       "    </tr>\n",
       "  </thead>\n",
       "  <tbody>\n",
       "    <tr>\n",
       "      <th>1</th>\n",
       "      <td>15000</td>\n",
       "      <td>30</td>\n",
       "      <td>0</td>\n",
       "    </tr>\n",
       "    <tr>\n",
       "      <th>2</th>\n",
       "      <td>15000</td>\n",
       "      <td>81</td>\n",
       "      <td>0</td>\n",
       "    </tr>\n",
       "    <tr>\n",
       "      <th>3</th>\n",
       "      <td>16000</td>\n",
       "      <td>6</td>\n",
       "      <td>0</td>\n",
       "    </tr>\n",
       "    <tr>\n",
       "      <th>4</th>\n",
       "      <td>16000</td>\n",
       "      <td>77</td>\n",
       "      <td>0</td>\n",
       "    </tr>\n",
       "    <tr>\n",
       "      <th>5</th>\n",
       "      <td>17000</td>\n",
       "      <td>33</td>\n",
       "      <td>0</td>\n",
       "    </tr>\n",
       "  </tbody>\n",
       "</table>\n",
       "</div>"
      ]
     },
     "execution_count": 12,
     "metadata": {},
     "output_type": "execute_result"
    }
   ],
   "execution_count": 12
  },
  {
   "cell_type": "markdown",
   "source": [
    "To visualize the resuls, use the **sns.scatterplot()** as below"
   ],
   "metadata": {
    "id": "Cc7xc411wHJ8"
   }
  },
  {
   "cell_type": "code",
   "source": [
    "# Import the seaborn library for data visualization\n",
    "import seaborn as sns\n",
    "\n",
    "# Create a scatter plot:\n",
    "# - x-axis: 'Annual Income'\n",
    "# - y-axis: 'Spending Score'\n",
    "# - 'hue' parameter assigns different colors to data points based on the 'cluster' column\n",
    "# - 'style' parameter assigns different markers/styles to data points based on the 'cluster' column\n",
    "# - 'size' parameter adjusts the size of data points based on the 'cluster' column\n",
    "# - 'palette' parameter defines the color palette used for the plot\n",
    "sns.scatterplot(x=df['Annual Income'], y=df['Spending Score'], hue=df['cluster'], style=df['cluster'], size=df['cluster'], palette='colorblind')"
   ],
   "metadata": {
    "colab": {
     "base_uri": "https://localhost:8080/",
     "height": 466
    },
    "id": "YcucRtS7taen",
    "outputId": "86e1593d-13ac-4a6d-bafd-e86ffd1b063e",
    "ExecuteTime": {
     "end_time": "2024-07-22T11:40:09.750834Z",
     "start_time": "2024-07-22T11:40:09.185969Z"
    }
   },
   "outputs": [
    {
     "data": {
      "text/plain": [
       "<Axes: xlabel='Annual Income', ylabel='Spending Score'>"
      ]
     },
     "execution_count": 13,
     "metadata": {},
     "output_type": "execute_result"
    },
    {
     "data": {
      "text/plain": [
       "<Figure size 640x480 with 1 Axes>"
      ],
      "image/png": "[encoded data removed]"
     },
     "metadata": {},
     "output_type": "display_data"
    }
   ],
   "execution_count": 13
  },
  {
   "cell_type": "markdown",
   "source": [
    "From the scatter plot, it's evident that the points are grouped or clustered based on the 'Annual Income' (with values in thousands) and do not take into account the 'Spending Score' feature (with values in tens). Is this an acceptable clustering approach?"
   ],
   "metadata": {
    "id": "thqB5VlAws86"
   }
  },
  {
   "cell_type": "markdown",
   "source": [
    "Let us repeate the classification but after feature scalling."
   ],
   "metadata": {
    "id": "Uj4EViFmxS_W"
   }
  },
  {
   "cell_type": "code",
   "source": [
    "# Import the MinMaxScaler class from the sklearn.preprocessing module\n",
    "from sklearn.preprocessing import MinMaxScaler\n",
    "\n",
    "# Import the KMeans class from the sklearn.cluster module\n",
    "from sklearn.cluster import KMeans\n",
    "\n",
    "# Create a MinMaxScaler object\n",
    "scaler = MinMaxScaler()\n",
    "\n",
    "# Fit the scaler to the DataFrame 'df', which computes the minimum and maximum values for scaling\n",
    "scaler.fit(df)\n",
    "\n",
    "# Transform and scale the data in 'df' using the fitted scaler\n",
    "data = scaler.transform(df)\n",
    "# print('data',data)\n",
    "\n",
    "# Create a new DataFrame 'df_scaler' to store the scaled data, maintaining column names from 'df'\n",
    "df_scaler = pd.DataFrame(data, columns=df.columns)\n",
    "\n",
    "# print('df scalar',df_scaler)\n",
    "\n",
    "# Create a KMeans object with the desired number of clusters (4 in this case)\n",
    "km = KMeans(n_clusters=4)\n",
    "\n",
    "# Fit the KMeans model to the data, using the 'Annual Income' and 'Spending Score' columns as features\n",
    "km.fit(df_scaler[['Annual Income', 'Spending Score']])\n",
    "\n",
    "# Predict the cluster labels for each data point based on the fitted model\n",
    "cluster = km.predict(df_scaler[['Annual Income', 'Spending Score']])\n",
    "\n",
    "# Create a new column 'cluster' in the DataFrame to store the predicted cluster labels\n",
    "df_scaler['cluster'] = cluster\n",
    "\n",
    "# Create a scatter plot:\n",
    "# - x-axis: 'Annual Income'\n",
    "# - y-axis: 'Spending Score'\n",
    "# - 'hue' parameter assigns different colors to data points based on the 'cluster' column\n",
    "# - 'style' parameter assigns different markers/styles to data points based on the 'cluster' column\n",
    "# - 'size' parameter adjusts the size of data points based on the 'cluster' column\n",
    "# - 'palette' parameter defines the color palette used for the plot\n",
    "sns.scatterplot(x=df_scaler['Annual Income'], y=df_scaler['Spending Score'], hue=df_scaler['cluster'], style=df_scaler['cluster'], size=df_scaler['cluster'], palette='colorblind')\n"
   ],
   "metadata": {
    "colab": {
     "base_uri": "https://localhost:8080/",
     "height": 521
    },
    "id": "LjMQcxOgxZSB",
    "outputId": "26624072-9a6b-4d8d-b082-4bba8abac7ed",
    "ExecuteTime": {
     "end_time": "2024-07-22T11:47:10.978136Z",
     "start_time": "2024-07-22T11:47:10.523362Z"
    }
   },
   "outputs": [
    {
     "name": "stderr",
     "output_type": "stream",
     "text": [
      "/home/faris/.local/lib/python3.10/site-packages/sklearn/cluster/_kmeans.py:1416: FutureWarning: The default value of `n_init` will change from 10 to 'auto' in 1.4. Set the value of `n_init` explicitly to suppress the warning\n",
      "  super()._check_params_vs_input(X, default_n_init=10)\n"
     ]
    },
    {
     "data": {
      "text/plain": [
       "<Axes: xlabel='Annual Income', ylabel='Spending Score'>"
      ]
     },
     "execution_count": 15,
     "metadata": {},
     "output_type": "execute_result"
    },
    {
     "data": {
      "text/plain": [
       "<Figure size 640x480 with 1 Axes>"
      ],
      "image/png": "[encoded data removed]"
     },
     "metadata": {},
     "output_type": "display_data"
    }
   ],
   "execution_count": 15
  },
  {
   "cell_type": "markdown",
   "source": [
    "**Task 3.1**: Referring to the figure shown above, please provide your observations regarding the clustering of Mall Customers' records both before and after the scaling process."
   ],
   "metadata": {
    "id": "HM13dnExyIao"
   }
  },
  {
   "metadata": {},
   "cell_type": "markdown",
   "source": "From the above figures we can notice that before scaling, there was high clustering  the data was well seperated, but regardless the **spending Score**, after scaling the data was better clustered, more sensitive to the **spending Score** , more seperated, in short the scaling process made the data less distinct "
  },
  {
   "cell_type": "markdown",
   "source": [
    "**Task 3.2**: To demonstrate the impact of scaling on machine learning, your task is to cluster the records in the 'tips' dataset based on the **total_bill** and **tip** features, both before and after applying feature scaling.\n",
    "\n",
    "**Note**: The tips dataset contains information about tips received by a waiter over a few months in a restaurant. It has details like how much tip was given, the bill amount, whether the person paying the bill is male or female, if there were smokers in the group, the day of the week, the time of day, and the size of the group.\n",
    "\n",
    "You may load the dataset using the following code snippet."
   ],
   "metadata": {
    "id": "3U5PJn1fzGn0"
   }
  },
  {
   "cell_type": "code",
   "source": [
    "# Load an example dataset\n",
    "tips = sns.load_dataset(\"tips\")\n",
    "tips.info()"
   ],
   "metadata": {
    "colab": {
     "base_uri": "https://localhost:8080/"
    },
    "id": "d-gQxE9IzP-_",
    "outputId": "0aa331a6-6976-4bf4-f33c-d5252a9c07d2",
    "ExecuteTime": {
     "end_time": "2024-07-22T11:59:56.756836Z",
     "start_time": "2024-07-22T11:59:56.592350Z"
    }
   },
   "outputs": [
    {
     "name": "stdout",
     "output_type": "stream",
     "text": [
      "<class 'pandas.core.frame.DataFrame'>\n",
      "RangeIndex: 244 entries, 0 to 243\n",
      "Data columns (total 7 columns):\n",
      " #   Column      Non-Null Count  Dtype   \n",
      "---  ------      --------------  -----   \n",
      " 0   total_bill  244 non-null    float64 \n",
      " 1   tip         244 non-null    float64 \n",
      " 2   sex         244 non-null    category\n",
      " 3   smoker      244 non-null    category\n",
      " 4   day         244 non-null    category\n",
      " 5   time        244 non-null    category\n",
      " 6   size        244 non-null    int64   \n",
      "dtypes: category(4), float64(2), int64(1)\n",
      "memory usage: 7.4 KB\n"
     ]
    }
   ],
   "execution_count": 16
  },
  {
   "metadata": {},
   "cell_type": "markdown",
   "source": "**Task3.2.1 Solution** Tips dataset without clustering"
  },
  {
   "cell_type": "code",
   "source": [
    "#write you code here\n",
    "# Import the KMeans class from the sklearn.cluster module\n",
    "from sklearn.cluster import KMeans\n",
    "\n",
    "# Create a KMeans object with the desired number of clusters (4 in this case)\n",
    "km = KMeans(n_clusters=4)\n",
    "\n",
    "# Fit the KMeans model to the data, using the 'Annual Income' and 'Spending Score' columns as features\n",
    "km.fit(tips[['total_bill', 'tip']])\n",
    "\n",
    "# Predict the cluster labels for each data point based on the fitted model\n",
    "cluster = km.predict(tips[['total_bill', 'tip']])\n",
    "\n",
    "# Create a new column 'cluster' in the DataFrame to store the predicted cluster labels\n",
    "tips['cluster'] = cluster\n",
    "\n",
    "# Display the first few rows of the DataFrame with the 'cluster' column added\n",
    "tips.head()"
   ],
   "metadata": {
    "id": "5pAQIKHh1dY0",
    "ExecuteTime": {
     "end_time": "2024-07-22T12:03:31.943199Z",
     "start_time": "2024-07-22T12:03:31.905628Z"
    }
   },
   "outputs": [
    {
     "name": "stderr",
     "output_type": "stream",
     "text": [
      "/home/faris/.local/lib/python3.10/site-packages/sklearn/cluster/_kmeans.py:1416: FutureWarning: The default value of `n_init` will change from 10 to 'auto' in 1.4. Set the value of `n_init` explicitly to suppress the warning\n",
      "  super()._check_params_vs_input(X, default_n_init=10)\n"
     ]
    },
    {
     "data": {
      "text/plain": [
       "   total_bill   tip     sex smoker  day    time  size  cluster\n",
       "0       16.99  1.01  Female     No  Sun  Dinner     2        2\n",
       "1       10.34  1.66    Male     No  Sun  Dinner     3        0\n",
       "2       21.01  3.50    Male     No  Sun  Dinner     3        2\n",
       "3       23.68  3.31    Male     No  Sun  Dinner     2        1\n",
       "4       24.59  3.61  Female     No  Sun  Dinner     4        1"
      ],
      "text/html": [
       "<div>\n",
       "<style scoped>\n",
       "    .dataframe tbody tr th:only-of-type {\n",
       "        vertical-align: middle;\n",
       "    }\n",
       "\n",
       "    .dataframe tbody tr th {\n",
       "        vertical-align: top;\n",
       "    }\n",
       "\n",
       "    .dataframe thead th {\n",
       "        text-align: right;\n",
       "    }\n",
       "</style>\n",
       "<table border=\"1\" class=\"dataframe\">\n",
       "  <thead>\n",
       "    <tr style=\"text-align: right;\">\n",
       "      <th></th>\n",
       "      <th>total_bill</th>\n",
       "      <th>tip</th>\n",
       "      <th>sex</th>\n",
       "      <th>smoker</th>\n",
       "      <th>day</th>\n",
       "      <th>time</th>\n",
       "      <th>size</th>\n",
       "      <th>cluster</th>\n",
       "    </tr>\n",
       "  </thead>\n",
       "  <tbody>\n",
       "    <tr>\n",
       "      <th>0</th>\n",
       "      <td>16.99</td>\n",
       "      <td>1.01</td>\n",
       "      <td>Female</td>\n",
       "      <td>No</td>\n",
       "      <td>Sun</td>\n",
       "      <td>Dinner</td>\n",
       "      <td>2</td>\n",
       "      <td>2</td>\n",
       "    </tr>\n",
       "    <tr>\n",
       "      <th>1</th>\n",
       "      <td>10.34</td>\n",
       "      <td>1.66</td>\n",
       "      <td>Male</td>\n",
       "      <td>No</td>\n",
       "      <td>Sun</td>\n",
       "      <td>Dinner</td>\n",
       "      <td>3</td>\n",
       "      <td>0</td>\n",
       "    </tr>\n",
       "    <tr>\n",
       "      <th>2</th>\n",
       "      <td>21.01</td>\n",
       "      <td>3.50</td>\n",
       "      <td>Male</td>\n",
       "      <td>No</td>\n",
       "      <td>Sun</td>\n",
       "      <td>Dinner</td>\n",
       "      <td>3</td>\n",
       "      <td>2</td>\n",
       "    </tr>\n",
       "    <tr>\n",
       "      <th>3</th>\n",
       "      <td>23.68</td>\n",
       "      <td>3.31</td>\n",
       "      <td>Male</td>\n",
       "      <td>No</td>\n",
       "      <td>Sun</td>\n",
       "      <td>Dinner</td>\n",
       "      <td>2</td>\n",
       "      <td>1</td>\n",
       "    </tr>\n",
       "    <tr>\n",
       "      <th>4</th>\n",
       "      <td>24.59</td>\n",
       "      <td>3.61</td>\n",
       "      <td>Female</td>\n",
       "      <td>No</td>\n",
       "      <td>Sun</td>\n",
       "      <td>Dinner</td>\n",
       "      <td>4</td>\n",
       "      <td>1</td>\n",
       "    </tr>\n",
       "  </tbody>\n",
       "</table>\n",
       "</div>"
      ]
     },
     "execution_count": 17,
     "metadata": {},
     "output_type": "execute_result"
    }
   ],
   "execution_count": 17
  },
  {
   "metadata": {
    "ExecuteTime": {
     "end_time": "2024-07-22T12:06:39.501789Z",
     "start_time": "2024-07-22T12:06:38.921706Z"
    }
   },
   "cell_type": "code",
   "source": [
    "# Import the seaborn library for data visualization\n",
    "import seaborn as sns\n",
    "\n",
    "# Create a scatter plot:\n",
    "# - x-axis: 'Annual Income'\n",
    "# - y-axis: 'Spending Score'\n",
    "# - 'hue' parameter assigns different colors to data points based on the 'cluster' column\n",
    "# - 'style' parameter assigns different markers/styles to data points based on the 'cluster' column\n",
    "# - 'size' parameter adjusts the size of data points based on the 'cluster' column\n",
    "# - 'palette' parameter defines the color palette used for the plot\n",
    "sns.scatterplot(x=tips['total_bill'], y=tips['tip'], hue=tips['cluster'], style=tips['cluster'], size=tips['cluster'], palette='colorblind')"
   ],
   "outputs": [
    {
     "data": {
      "text/plain": [
       "<Axes: xlabel='total_bill', ylabel='tip'>"
      ]
     },
     "execution_count": 19,
     "metadata": {},
     "output_type": "execute_result"
    },
    {
     "data": {
      "text/plain": [
       "<Figure size 640x480 with 1 Axes>"
      ],
      "image/png": "[encoded data removed]"
     },
     "metadata": {},
     "output_type": "display_data"
    }
   ],
   "execution_count": 19
  },
  {
   "metadata": {},
   "cell_type": "markdown",
   "source": "**Task3.2.1 Solution** Tips dataset with clustering"
  },
  {
   "metadata": {
    "ExecuteTime": {
     "end_time": "2024-07-22T12:21:05.212987Z",
     "start_time": "2024-07-22T12:21:04.621561Z"
    }
   },
   "cell_type": "code",
   "source": [
    "# Import the MinMaxScaler class from the sklearn.preprocessing module\n",
    "from sklearn.preprocessing import MinMaxScaler\n",
    "\n",
    "# Import the KMeans class from the sklearn.cluster module\n",
    "from sklearn.cluster import KMeans\n",
    "\n",
    "# Create a MinMaxScaler object\n",
    "scaler = MinMaxScaler()\n",
    "\n",
    "# Fit the scaler to the DataFrame 'tips', which computes the minimum and maximum values for scaling\n",
    "scaler.fit(tips[['total_bill','tip']])\n",
    "\n",
    "# Transform and scale the data in 'tips' using the fitted scaler\n",
    "data = scaler.transform(tips[['total_bill','tip']])\n",
    "# print('data',data)\n",
    "\n",
    "# Create a new DataFrame 'df_scaler' to store the scaled data, maintaining column names from 'df'\n",
    "df_scaler = pd.DataFrame(data, columns=['total_bill','tip'])\n",
    "\n",
    "# print('df scalar',df_scaler)\n",
    "\n",
    "# Create a KMeans object with the desired number of clusters (4 in this case)\n",
    "km = KMeans(n_clusters=4)\n",
    "\n",
    "# Fit the KMeans model to the data, using the 'Annual Income' and 'Spending Score' columns as features\n",
    "km.fit(df_scaler[['total_bill', 'tip']])\n",
    "\n",
    "# Predict the cluster labels for each data point based on the fitted model\n",
    "cluster = km.predict(df_scaler[['total_bill', 'tip']])\n",
    "\n",
    "# Create a new column 'cluster' in the DataFrame to store the predicted cluster labels\n",
    "df_scaler['cluster'] = cluster\n",
    "\n",
    "\n",
    "# Create a scatter plot:\n",
    "# - x-axis: 'Annual Income'\n",
    "# - y-axis: 'Spending Score'\n",
    "# - 'hue' parameter assigns different colors to data points based on the 'cluster' column\n",
    "# - 'style' parameter assigns different markers/styles to data points based on the 'cluster' column\n",
    "# - 'size' parameter adjusts the size of data points based on the 'cluster' column\n",
    "# - 'palette' parameter defines the color palette used for the plot\n",
    "sns.scatterplot(x=df_scaler['total_bill'], y=df_scaler['tip'], hue=df_scaler['cluster'], style=df_scaler['cluster'], size=df_scaler['cluster'], palette='colorblind')\n"
   ],
   "outputs": [
    {
     "name": "stderr",
     "output_type": "stream",
     "text": [
      "/home/faris/.local/lib/python3.10/site-packages/sklearn/cluster/_kmeans.py:1416: FutureWarning: The default value of `n_init` will change from 10 to 'auto' in 1.4. Set the value of `n_init` explicitly to suppress the warning\n",
      "  super()._check_params_vs_input(X, default_n_init=10)\n"
     ]
    },
    {
     "data": {
      "text/plain": [
       "<Axes: xlabel='total_bill', ylabel='tip'>"
      ]
     },
     "execution_count": 24,
     "metadata": {},
     "output_type": "execute_result"
    },
    {
     "data": {
      "text/plain": [
       "<Figure size 640x480 with 1 Axes>"
      ],
      "image/png": "[encoded data removed]"
     },
     "metadata": {},
     "output_type": "display_data"
    }
   ],
   "execution_count": 24
  },
  {
   "metadata": {},
   "cell_type": "markdown",
   "source": "From the above 2 figures we can notice, that before scaling, data was clustered depending on total_bill regardless the tip, this is because the total_bill feature  values are much higher that the tip, which makes the algorithim considering the tip less important, while after scaling the second figure put into account the tip value, without favouring the total_bill"
  },
  {
   "cell_type": "markdown",
   "source": [
    "## 3.1.2 Discretization\n",
    "\n"
   ],
   "metadata": {
    "id": "q9UpJC3vAlR7"
   }
  },
  {
   "cell_type": "markdown",
   "source": [
    "To demonstrate discretization, we will load the \"fetch_california_housing\" dataset. This dataset is a popular dataset used in machine learning. It contains data related to housing in California, primarily for the purpose of regression analysis. This dataset is often used for tasks such as predicting the median house value for districts in California based on various features. The dataset includes several features that can be used as input variables for regression models. Some of the typical features include median income, average house occupancy, latitude, longitude, and more. The target variable is the median house value for each district. This is the variable that you typically aim to predict in regression tasks."
   ],
   "metadata": {
    "id": "DcpnZqMuoL5o"
   }
  },
  {
   "cell_type": "code",
   "source": [
    "from sklearn.datasets import fetch_california_housing\n",
    "X,y = fetch_california_housing(return_X_y= True, as_frame = True)\n",
    "df = pd.concat((X,y), axis=1)\n",
    "df.head()"
   ],
   "metadata": {
    "colab": {
     "base_uri": "https://localhost:8080/",
     "height": 206
    },
    "id": "dQNvN-tSF4Ik",
    "outputId": "9d561093-29f8-466d-b7d2-f29ff49c33d9",
    "ExecuteTime": {
     "end_time": "2024-07-22T12:30:02.068591Z",
     "start_time": "2024-07-22T12:29:59.389321Z"
    }
   },
   "outputs": [
    {
     "data": {
      "text/plain": [
       "   MedInc  HouseAge  AveRooms  AveBedrms  Population  AveOccup  Latitude  \\\n",
       "0  8.3252      41.0  6.984127   1.023810       322.0  2.555556     37.88   \n",
       "1  8.3014      21.0  6.238137   0.971880      2401.0  2.109842     37.86   \n",
       "2  7.2574      52.0  8.288136   1.073446       496.0  2.802260     37.85   \n",
       "3  5.6431      52.0  5.817352   1.073059       558.0  2.547945     37.85   \n",
       "4  3.8462      52.0  6.281853   1.081081       565.0  2.181467     37.85   \n",
       "\n",
       "   Longitude  MedHouseVal  \n",
       "0    -122.23        4.526  \n",
       "1    -122.22        3.585  \n",
       "2    -122.24        3.521  \n",
       "3    -122.25        3.413  \n",
       "4    -122.25        3.422  "
      ],
      "text/html": [
       "<div>\n",
       "<style scoped>\n",
       "    .dataframe tbody tr th:only-of-type {\n",
       "        vertical-align: middle;\n",
       "    }\n",
       "\n",
       "    .dataframe tbody tr th {\n",
       "        vertical-align: top;\n",
       "    }\n",
       "\n",
       "    .dataframe thead th {\n",
       "        text-align: right;\n",
       "    }\n",
       "</style>\n",
       "<table border=\"1\" class=\"dataframe\">\n",
       "  <thead>\n",
       "    <tr style=\"text-align: right;\">\n",
       "      <th></th>\n",
       "      <th>MedInc</th>\n",
       "      <th>HouseAge</th>\n",
       "      <th>AveRooms</th>\n",
       "      <th>AveBedrms</th>\n",
       "      <th>Population</th>\n",
       "      <th>AveOccup</th>\n",
       "      <th>Latitude</th>\n",
       "      <th>Longitude</th>\n",
       "      <th>MedHouseVal</th>\n",
       "    </tr>\n",
       "  </thead>\n",
       "  <tbody>\n",
       "    <tr>\n",
       "      <th>0</th>\n",
       "      <td>8.3252</td>\n",
       "      <td>41.0</td>\n",
       "      <td>6.984127</td>\n",
       "      <td>1.023810</td>\n",
       "      <td>322.0</td>\n",
       "      <td>2.555556</td>\n",
       "      <td>37.88</td>\n",
       "      <td>-122.23</td>\n",
       "      <td>4.526</td>\n",
       "    </tr>\n",
       "    <tr>\n",
       "      <th>1</th>\n",
       "      <td>8.3014</td>\n",
       "      <td>21.0</td>\n",
       "      <td>6.238137</td>\n",
       "      <td>0.971880</td>\n",
       "      <td>2401.0</td>\n",
       "      <td>2.109842</td>\n",
       "      <td>37.86</td>\n",
       "      <td>-122.22</td>\n",
       "      <td>3.585</td>\n",
       "    </tr>\n",
       "    <tr>\n",
       "      <th>2</th>\n",
       "      <td>7.2574</td>\n",
       "      <td>52.0</td>\n",
       "      <td>8.288136</td>\n",
       "      <td>1.073446</td>\n",
       "      <td>496.0</td>\n",
       "      <td>2.802260</td>\n",
       "      <td>37.85</td>\n",
       "      <td>-122.24</td>\n",
       "      <td>3.521</td>\n",
       "    </tr>\n",
       "    <tr>\n",
       "      <th>3</th>\n",
       "      <td>5.6431</td>\n",
       "      <td>52.0</td>\n",
       "      <td>5.817352</td>\n",
       "      <td>1.073059</td>\n",
       "      <td>558.0</td>\n",
       "      <td>2.547945</td>\n",
       "      <td>37.85</td>\n",
       "      <td>-122.25</td>\n",
       "      <td>3.413</td>\n",
       "    </tr>\n",
       "    <tr>\n",
       "      <th>4</th>\n",
       "      <td>3.8462</td>\n",
       "      <td>52.0</td>\n",
       "      <td>6.281853</td>\n",
       "      <td>1.081081</td>\n",
       "      <td>565.0</td>\n",
       "      <td>2.181467</td>\n",
       "      <td>37.85</td>\n",
       "      <td>-122.25</td>\n",
       "      <td>3.422</td>\n",
       "    </tr>\n",
       "  </tbody>\n",
       "</table>\n",
       "</div>"
      ]
     },
     "execution_count": 25,
     "metadata": {},
     "output_type": "execute_result"
    }
   ],
   "execution_count": 25
  },
  {
   "cell_type": "markdown",
   "source": [
    "**3.1.2.1 Equal Width Discretiser**\n",
    "\n",
    "Equal Width Discretiser is a data preprocessing technique used in feature engineering to transform continuous numerical data into discrete categories of equal width. This method divides the range of the data into a specified number of bins or intervals, ensuring that each bin has the same width or range."
   ],
   "metadata": {
    "id": "QV2lKeQzbTUs"
   }
  },
  {
   "metadata": {},
   "cell_type": "markdown",
   "source": "Quantization to avoid additional non-necessary floating points or numbers "
  },
  {
   "cell_type": "code",
   "source": [
    "# Install the feature_engine library if not already installed\n",
    "!pip install feature_engine"
   ],
   "metadata": {
    "colab": {
     "base_uri": "https://localhost:8080/"
    },
    "id": "_4dDAc4WYiQj",
    "outputId": "5e59694d-073b-4f6b-ffa6-fc8b45bc0db7",
    "ExecuteTime": {
     "end_time": "2024-07-22T12:31:59.156588Z",
     "start_time": "2024-07-22T12:31:23.283212Z"
    }
   },
   "outputs": [
    {
     "name": "stdout",
     "output_type": "stream",
     "text": [
      "Defaulting to user installation because normal site-packages is not writeable\r\n",
      "Collecting feature_engine\r\n",
      "  Obtaining dependency information for feature_engine from https://files.pythonhosted.org/packages/90/1a/db225f82eb8ed8b4f0fda38fcbe6b73bb40078a180a10e08e9a3b111169f/feature_engine-1.8.0-py2.py3-none-any.whl.metadata\r\n",
      "  Downloading feature_engine-1.8.0-py2.py3-none-any.whl.metadata (9.8 kB)\r\n",
      "Requirement already satisfied: numpy>=1.18.2 in /home/faris/.local/lib/python3.10/site-packages (from feature_engine) (1.25.2)\r\n",
      "Collecting pandas>=2.2.0 (from feature_engine)\r\n",
      "  Obtaining dependency information for pandas>=2.2.0 from https://files.pythonhosted.org/packages/89/1b/12521efcbc6058e2673583bb096c2b5046a9df39bd73eca392c1efed24e5/pandas-2.2.2-cp310-cp310-manylinux_2_17_x86_64.manylinux2014_x86_64.whl.metadata\r\n",
      "  Downloading pandas-2.2.2-cp310-cp310-manylinux_2_17_x86_64.manylinux2014_x86_64.whl.metadata (19 kB)\r\n",
      "Collecting scikit-learn>=1.4.0 (from feature_engine)\r\n",
      "  Obtaining dependency information for scikit-learn>=1.4.0 from https://files.pythonhosted.org/packages/f2/60/6c589c91e474721efdcec82ea9cc5c743359e52637e46c364ee5236666ef/scikit_learn-1.5.1-cp310-cp310-manylinux_2_17_x86_64.manylinux2014_x86_64.whl.metadata\r\n",
      "  Downloading scikit_learn-1.5.1-cp310-cp310-manylinux_2_17_x86_64.manylinux2014_x86_64.whl.metadata (12 kB)\r\n",
      "Requirement already satisfied: scipy>=1.4.1 in /home/faris/.local/lib/python3.10/site-packages (from feature_engine) (1.11.3)\r\n",
      "Collecting statsmodels>=0.11.1 (from feature_engine)\r\n",
      "  Obtaining dependency information for statsmodels>=0.11.1 from https://files.pythonhosted.org/packages/9f/06/2f1d2ba024c802e812fe9e85eebc06871d76f1f4e0bb2beb0faa22cbe330/statsmodels-0.14.2-cp310-cp310-manylinux_2_17_x86_64.manylinux2014_x86_64.whl.metadata\r\n",
      "  Downloading statsmodels-0.14.2-cp310-cp310-manylinux_2_17_x86_64.manylinux2014_x86_64.whl.metadata (9.2 kB)\r\n",
      "Requirement already satisfied: python-dateutil>=2.8.2 in /usr/local/lib/python3.10/dist-packages (from pandas>=2.2.0->feature_engine) (2.8.2)\r\n",
      "Requirement already satisfied: pytz>=2020.1 in /usr/lib/python3/dist-packages (from pandas>=2.2.0->feature_engine) (2022.1)\r\n",
      "Requirement already satisfied: tzdata>=2022.7 in /home/faris/.local/lib/python3.10/site-packages (from pandas>=2.2.0->feature_engine) (2023.3)\r\n",
      "Requirement already satisfied: joblib>=1.2.0 in /home/faris/.local/lib/python3.10/site-packages (from scikit-learn>=1.4.0->feature_engine) (1.3.2)\r\n",
      "Requirement already satisfied: threadpoolctl>=3.1.0 in /home/faris/.local/lib/python3.10/site-packages (from scikit-learn>=1.4.0->feature_engine) (3.2.0)\r\n",
      "Collecting patsy>=0.5.6 (from statsmodels>=0.11.1->feature_engine)\r\n",
      "  Obtaining dependency information for patsy>=0.5.6 from https://files.pythonhosted.org/packages/43/f3/1d311a09c34f14f5973bb0bb0dc3a6e007e1eda90b5492d082689936ca51/patsy-0.5.6-py2.py3-none-any.whl.metadata\r\n",
      "  Downloading patsy-0.5.6-py2.py3-none-any.whl.metadata (3.5 kB)\r\n",
      "Requirement already satisfied: packaging>=21.3 in /usr/local/lib/python3.10/dist-packages (from statsmodels>=0.11.1->feature_engine) (23.1)\r\n",
      "Requirement already satisfied: six in /usr/lib/python3/dist-packages (from patsy>=0.5.6->statsmodels>=0.11.1->feature_engine) (1.16.0)\r\n",
      "Downloading feature_engine-1.8.0-py2.py3-none-any.whl (357 kB)\r\n",
      "\u001B[2K   \u001B[90m━━━━━━━━━━━━━━━━━━━━━━━━━━━━━━━━━━━━━━━━\u001B[0m \u001B[32m357.1/357.1 kB\u001B[0m \u001B[31m1.5 MB/s\u001B[0m eta \u001B[36m0:00:00\u001B[0ma \u001B[36m0:00:01\u001B[0m\r\n",
      "\u001B[?25hDownloading pandas-2.2.2-cp310-cp310-manylinux_2_17_x86_64.manylinux2014_x86_64.whl (13.0 MB)\r\n",
      "\u001B[2K   \u001B[90m━━━━━━━━━━━━━━━━━━━━━━━━━━━━━━━━━━━━━━━━\u001B[0m \u001B[32m13.0/13.0 MB\u001B[0m \u001B[31m4.1 MB/s\u001B[0m eta \u001B[36m0:00:00\u001B[0m00:01\u001B[0m00:01\u001B[0m\r\n",
      "\u001B[?25hDownloading scikit_learn-1.5.1-cp310-cp310-manylinux_2_17_x86_64.manylinux2014_x86_64.whl (13.4 MB)\r\n",
      "\u001B[2K   \u001B[90m━━━━━━━━━━━━━━━━━━━━━━━━━━━━━━━━━━━━━━━━\u001B[0m \u001B[32m13.4/13.4 MB\u001B[0m \u001B[31m3.5 MB/s\u001B[0m eta \u001B[36m0:00:00\u001B[0m00:01\u001B[0m00:01\u001B[0m\r\n",
      "\u001B[?25hDownloading statsmodels-0.14.2-cp310-cp310-manylinux_2_17_x86_64.manylinux2014_x86_64.whl (10.8 MB)\r\n",
      "\u001B[2K   \u001B[90m━━━━━━━━━━━━━━━━━━━━━━━━━━━━━━━━━━━━━━━━\u001B[0m \u001B[32m10.8/10.8 MB\u001B[0m \u001B[31m3.9 MB/s\u001B[0m eta \u001B[36m0:00:00\u001B[0m00:01\u001B[0m00:01\u001B[0m\r\n",
      "\u001B[?25hDownloading patsy-0.5.6-py2.py3-none-any.whl (233 kB)\r\n",
      "\u001B[2K   \u001B[90m━━━━━━━━━━━━━━━━━━━━━━━━━━━━━━━━━━━━━━━━\u001B[0m \u001B[32m233.9/233.9 kB\u001B[0m \u001B[31m2.0 MB/s\u001B[0m eta \u001B[36m0:00:00\u001B[0ma \u001B[36m0:00:01\u001B[0m\r\n",
      "\u001B[?25hInstalling collected packages: patsy, scikit-learn, pandas, statsmodels, feature_engine\r\n",
      "  Attempting uninstall: scikit-learn\r\n",
      "    Found existing installation: scikit-learn 1.3.2\r\n",
      "    Uninstalling scikit-learn-1.3.2:\r\n",
      "      Successfully uninstalled scikit-learn-1.3.2\r\n",
      "  Attempting uninstall: pandas\r\n",
      "    Found existing installation: pandas 2.1.0\r\n",
      "    Uninstalling pandas-2.1.0:\r\n",
      "      Successfully uninstalled pandas-2.1.0\r\n",
      "Successfully installed feature_engine-1.8.0 pandas-2.2.2 patsy-0.5.6 scikit-learn-1.5.1 statsmodels-0.14.2\r\n",
      "\r\n",
      "\u001B[1m[\u001B[0m\u001B[34;49mnotice\u001B[0m\u001B[1;39;49m]\u001B[0m\u001B[39;49m A new release of pip is available: \u001B[0m\u001B[31;49m23.2.1\u001B[0m\u001B[39;49m -> \u001B[0m\u001B[32;49m24.1.2\u001B[0m\r\n",
      "\u001B[1m[\u001B[0m\u001B[34;49mnotice\u001B[0m\u001B[1;39;49m]\u001B[0m\u001B[39;49m To update, run: \u001B[0m\u001B[32;49mpython3.10 -m pip install --upgrade pip\u001B[0m\r\n"
     ]
    }
   ],
   "execution_count": 26
  },
  {
   "metadata": {
    "ExecuteTime": {
     "end_time": "2024-07-22T12:32:07.949532Z",
     "start_time": "2024-07-22T12:32:07.721908Z"
    }
   },
   "cell_type": "code",
   "source": [
    "\n",
    "# Import the required library and module\n",
    "from feature_engine import discretisation as dsc\n",
    "\n",
    "# Set up the discretisation transformer with specified parameters:\n",
    "# - 'bins' sets the number of bins or intervals (8 in this case)\n",
    "# - 'variables' specifies the columns to be discretized\n",
    "# - if 'return_boundaries=True' is set, then it indicates that you want to return bin boundaries and not the discreate values\n",
    "\n",
    "disc = dsc.EqualWidthDiscretiser(bins=8, variables=['MedInc'])\n",
    "\n",
    "# Fit the transformer on the selected variables\n",
    "disc.fit(df[['MedInc']])\n",
    "\n",
    "# Create a copy of the original DataFrame to store the discretized data\n",
    "df_EqualWidthDiscretiser = df.copy()\n",
    "\n",
    "# Transform the specified columns using the fitted discretisation transformer\n",
    "df_EqualWidthDiscretiser[['MedInc']] = disc.transform(df[['MedInc']])\n",
    "\n",
    "# Access the bin boundaries dictionary (not required for the main discretization)\n",
    "disc.binner_dict_"
   ],
   "outputs": [
    {
     "data": {
      "text/plain": [
       "{'MedInc': [-inf,\n",
       "  2.312425,\n",
       "  4.12495,\n",
       "  5.937475,\n",
       "  7.75,\n",
       "  9.562525,\n",
       "  11.37505,\n",
       "  13.187574999999999,\n",
       "  inf]}"
      ]
     },
     "execution_count": 27,
     "metadata": {},
     "output_type": "execute_result"
    }
   ],
   "execution_count": 27
  },
  {
   "cell_type": "markdown",
   "source": [
    "To print the DataFrame after discretisation of the MedInc"
   ],
   "metadata": {
    "id": "3lG_sR6siSbb"
   }
  },
  {
   "cell_type": "code",
   "source": "df_EqualWidthDiscretiser.head()",
   "metadata": {
    "colab": {
     "base_uri": "https://localhost:8080/",
     "height": 206
    },
    "id": "wa2l58oehCvN",
    "outputId": "f0109057-96d3-4931-f584-bfb58b8fc390",
    "ExecuteTime": {
     "end_time": "2024-07-22T12:44:40.788506Z",
     "start_time": "2024-07-22T12:44:40.770357Z"
    }
   },
   "outputs": [
    {
     "data": {
      "text/plain": [
       "   MedInc  HouseAge  AveRooms  AveBedrms  Population  AveOccup  Latitude  \\\n",
       "0       4      41.0  6.984127   1.023810       322.0  2.555556     37.88   \n",
       "1       4      21.0  6.238137   0.971880      2401.0  2.109842     37.86   \n",
       "2       3      52.0  8.288136   1.073446       496.0  2.802260     37.85   \n",
       "3       2      52.0  5.817352   1.073059       558.0  2.547945     37.85   \n",
       "4       1      52.0  6.281853   1.081081       565.0  2.181467     37.85   \n",
       "\n",
       "   Longitude  MedHouseVal  \n",
       "0    -122.23        4.526  \n",
       "1    -122.22        3.585  \n",
       "2    -122.24        3.521  \n",
       "3    -122.25        3.413  \n",
       "4    -122.25        3.422  "
      ],
      "text/html": [
       "<div>\n",
       "<style scoped>\n",
       "    .dataframe tbody tr th:only-of-type {\n",
       "        vertical-align: middle;\n",
       "    }\n",
       "\n",
       "    .dataframe tbody tr th {\n",
       "        vertical-align: top;\n",
       "    }\n",
       "\n",
       "    .dataframe thead th {\n",
       "        text-align: right;\n",
       "    }\n",
       "</style>\n",
       "<table border=\"1\" class=\"dataframe\">\n",
       "  <thead>\n",
       "    <tr style=\"text-align: right;\">\n",
       "      <th></th>\n",
       "      <th>MedInc</th>\n",
       "      <th>HouseAge</th>\n",
       "      <th>AveRooms</th>\n",
       "      <th>AveBedrms</th>\n",
       "      <th>Population</th>\n",
       "      <th>AveOccup</th>\n",
       "      <th>Latitude</th>\n",
       "      <th>Longitude</th>\n",
       "      <th>MedHouseVal</th>\n",
       "    </tr>\n",
       "  </thead>\n",
       "  <tbody>\n",
       "    <tr>\n",
       "      <th>0</th>\n",
       "      <td>4</td>\n",
       "      <td>41.0</td>\n",
       "      <td>6.984127</td>\n",
       "      <td>1.023810</td>\n",
       "      <td>322.0</td>\n",
       "      <td>2.555556</td>\n",
       "      <td>37.88</td>\n",
       "      <td>-122.23</td>\n",
       "      <td>4.526</td>\n",
       "    </tr>\n",
       "    <tr>\n",
       "      <th>1</th>\n",
       "      <td>4</td>\n",
       "      <td>21.0</td>\n",
       "      <td>6.238137</td>\n",
       "      <td>0.971880</td>\n",
       "      <td>2401.0</td>\n",
       "      <td>2.109842</td>\n",
       "      <td>37.86</td>\n",
       "      <td>-122.22</td>\n",
       "      <td>3.585</td>\n",
       "    </tr>\n",
       "    <tr>\n",
       "      <th>2</th>\n",
       "      <td>3</td>\n",
       "      <td>52.0</td>\n",
       "      <td>8.288136</td>\n",
       "      <td>1.073446</td>\n",
       "      <td>496.0</td>\n",
       "      <td>2.802260</td>\n",
       "      <td>37.85</td>\n",
       "      <td>-122.24</td>\n",
       "      <td>3.521</td>\n",
       "    </tr>\n",
       "    <tr>\n",
       "      <th>3</th>\n",
       "      <td>2</td>\n",
       "      <td>52.0</td>\n",
       "      <td>5.817352</td>\n",
       "      <td>1.073059</td>\n",
       "      <td>558.0</td>\n",
       "      <td>2.547945</td>\n",
       "      <td>37.85</td>\n",
       "      <td>-122.25</td>\n",
       "      <td>3.413</td>\n",
       "    </tr>\n",
       "    <tr>\n",
       "      <th>4</th>\n",
       "      <td>1</td>\n",
       "      <td>52.0</td>\n",
       "      <td>6.281853</td>\n",
       "      <td>1.081081</td>\n",
       "      <td>565.0</td>\n",
       "      <td>2.181467</td>\n",
       "      <td>37.85</td>\n",
       "      <td>-122.25</td>\n",
       "      <td>3.422</td>\n",
       "    </tr>\n",
       "  </tbody>\n",
       "</table>\n",
       "</div>"
      ]
     },
     "execution_count": 30,
     "metadata": {},
     "output_type": "execute_result"
    }
   ],
   "execution_count": 30
  },
  {
   "cell_type": "markdown",
   "source": [
    "As can be observed, the 'MedInc' feature values have been converted into discrete values. To print the width of the bins used for discretization, execute the following code:"
   ],
   "metadata": {
    "id": "MfxRrtZSc1EO"
   }
  },
  {
   "cell_type": "code",
   "source": [
    "np.array(disc.binner_dict_['MedInc'][1:]) - np.array(disc.binner_dict_['MedInc'][0:-1])"
   ],
   "metadata": {
    "colab": {
     "base_uri": "https://localhost:8080/"
    },
    "id": "x7XAKINSdAMA",
    "outputId": "ebbf1a73-1ecb-4c4a-eb00-01f0676e1be8",
    "ExecuteTime": {
     "end_time": "2024-07-22T12:48:03.296320Z",
     "start_time": "2024-07-22T12:48:03.287691Z"
    }
   },
   "outputs": [
    {
     "data": {
      "text/plain": [
       "array([     inf, 1.812525, 1.812525, 1.812525, 1.812525, 1.812525,\n",
       "       1.812525,      inf])"
      ]
     },
     "execution_count": 31,
     "metadata": {},
     "output_type": "execute_result"
    }
   ],
   "execution_count": 31
  },
  {
   "cell_type": "markdown",
   "source": [
    "As observed, all bins, except the first and last ones, have the same width. Let us plot the distribution before and after discretisation."
   ],
   "metadata": {
    "id": "EJTs0gMFdBjv"
   }
  },
  {
   "cell_type": "code",
   "source": [
    "import seaborn as sns\n",
    "fig, axs = plt.subplots(figsize=(18, 5),ncols=2,nrows=1)\n",
    "\n",
    "sns.histplot(data=df, x=\"MedInc\", ax=axs[0], kde=True);axs[0].set_title(f\"Original\")\n",
    "sns.histplot(data=df_EqualWidthDiscretiser, x=\"MedInc\", ax=axs[1], kde=True);axs[1].set_title(f\"After Equal Width Discretiser\")\n",
    "fig.subplots_adjust(hspace=1)"
   ],
   "metadata": {
    "colab": {
     "base_uri": "https://localhost:8080/",
     "height": 487
    },
    "id": "UgPMdkHndi8T",
    "outputId": "95f4f363-9ed8-4b5a-e2f6-c2af270143f9",
    "ExecuteTime": {
     "end_time": "2024-07-22T12:48:18.852490Z",
     "start_time": "2024-07-22T12:48:15.938002Z"
    }
   },
   "outputs": [
    {
     "data": {
      "text/plain": [
       "<Figure size 1800x500 with 2 Axes>"
      ],
      "image/png": "[encoded data removed]"
     },
     "metadata": {},
     "output_type": "display_data"
    }
   ],
   "execution_count": 32
  },
  {
   "cell_type": "markdown",
   "source": [
    "**Task 3.3**: What do you observe from the distributions of the MedInc feature before and after discretisation?"
   ],
   "metadata": {
    "id": "HIk0SvZKfKY0"
   }
  },
  {
   "metadata": {},
   "cell_type": "markdown",
   "source": "Before the discretisation values from MedInc stayed the same showing more details and counts of every MedInc value,  MedInc feature shows a continuous and skewed distribution with variability, the data showed a pattern where most people had lower incomes,with few extremly high income. After the discretisation, we can notice that MedInc values  is now valued to bins ranging from 0 to  7, each bin has the same width or range, summing all counts in that one bin range, This transformation simplifies the variable by grouping it into intervals, which can be useful for certain analyses but results in a loss of detailed information.."
  },
  {
   "cell_type": "markdown",
   "source": [
    "**3.1.2.2 Equal-frequency discretization**\n",
    "\n",
    "Equal-frequency discretization is another data preprocessing technique used in feature engineering to transform continuous numerical data into discrete categories of equal frequency. This method divides the range of the data into a specified number of bins or intervals, ensuring that each bin contains approximately the same number of data points.\n",
    "\n",
    "**Task 3.4**: In this task, you will utilize the **KBinsDiscretizer** from scikit-learn (sklearn.preprocessing) to:\n",
    "1. Fit and apply the KBinsDiscretizer to the 'MedInc' feature in the 'fetch_california_housing' dataset.\n",
    "2. Plot and observe the histogram for the transformed feature."
   ],
   "metadata": {
    "id": "Dwj6WdbjjwOT"
   }
  },
  {
   "cell_type": "code",
   "source": [
    "#write you code here\n",
    "from sklearn.preprocessing import KBinsDiscretizer\n",
    "\n",
    "disc = KBinsDiscretizer(n_bins=8, encode='ordinal', strategy='quantile')\n",
    "\n",
    "# Create a copy of the original DataFrame to store the discretized data\n",
    "df_KBinsDiscretizer = df.copy()\n",
    "\n",
    "# Transform the specified columns using the fitted discretisation transformer\n",
    "df_KBinsDiscretizer[['MedInc']] = disc.fit_transform(df[['MedInc']])\n"
   ],
   "metadata": {
    "id": "ZSFS2OODmsbv",
    "ExecuteTime": {
     "end_time": "2024-07-22T13:05:54.820703Z",
     "start_time": "2024-07-22T13:05:54.806876Z"
    }
   },
   "outputs": [],
   "execution_count": 33
  },
  {
   "metadata": {
    "ExecuteTime": {
     "end_time": "2024-07-22T13:05:59.523855Z",
     "start_time": "2024-07-22T13:05:57.466110Z"
    }
   },
   "cell_type": "code",
   "source": [
    "import seaborn as sns\n",
    "fig, axs = plt.subplots(figsize=(18, 5),ncols=2,nrows=1)\n",
    "\n",
    "sns.histplot(data=df, x=\"MedInc\", ax=axs[0], kde=True);axs[0].set_title(f\"Original\")\n",
    "sns.histplot(data=df_KBinsDiscretizer, x=\"MedInc\", ax=axs[1], kde=True);axs[1].set_title(f\"After Equal freqeuncy Discretiser\")\n",
    "fig.subplots_adjust(hspace=1)\n"
   ],
   "outputs": [
    {
     "data": {
      "text/plain": [
       "<Figure size 1800x500 with 2 Axes>"
      ],
      "image/png": "[encoded data removed]"
     },
     "metadata": {},
     "output_type": "display_data"
    }
   ],
   "execution_count": 34
  },
  {
   "metadata": {
    "ExecuteTime": {
     "end_time": "2024-07-22T13:16:54.602029Z",
     "start_time": "2024-07-22T13:16:54.592324Z"
    }
   },
   "cell_type": "code",
   "source": "disc.bin_edges_\n",
   "outputs": [
    {
     "data": {
      "text/plain": [
       "array([array([ 0.4999   ,  2.0312375,  2.5634   ,  3.0536   ,  3.5348   ,\n",
       "               4.0625   ,  4.74325  ,  5.830925 , 15.0001   ])           ],\n",
       "      dtype=object)"
      ]
     },
     "execution_count": 37,
     "metadata": {},
     "output_type": "execute_result"
    }
   ],
   "execution_count": 37
  },
  {
   "cell_type": "markdown",
   "source": "## 3.1.3 Encoding\n",
   "metadata": {
    "id": "QGAziDZFnFDi"
   }
  },
  {
   "cell_type": "markdown",
   "source": [
    "Encoding involves converting categorical data, such as text or labels, into a numerical format that machine learning models can interpret. In this experiment, you will investigate three encoding methods: one-hot encoding (creating binary columns for each category), label encoding (assigning a unique integer to each category), and ordinal encoding (mapping ordinal categories to numerical values)."
   ],
   "metadata": {
    "id": "l0ASVGVxoP0m"
   }
  },
  {
   "cell_type": "markdown",
   "source": [
    "**3.1.3.1 One-hot encoding**\n",
    "\n",
    "To demonstrate one-hot encoding, You will apply these techniques to a modified version of the Medical Cost Personal Dataset from Kaggle (https://www.kaggle.com/datasets/mirichoi0218/insurance). This dataset provides information pertaining to healthcare and medical insurance costs. It includes the following features:\n",
    "\n",
    "1. Age: Represents the age of the insured individuals.\n",
    "2. Gender: Indicates the gender of the insured individuals (male or female).\n",
    "3. BMI (Body Mass Index): A numerical measure that assesses body weight in relation to height.\n",
    "4. Children: Denotes the number of children or dependents covered by the insurance plan.\n",
    "5. Smoker: Specifies whether the insured individuals are smokers (with values typically as \"yes\" or \"no\").\n",
    "6. Region: Describes the geographic region or location where the insured individuals reside.\n",
    "7. Charges: Represents the medical insurance charges or costs incurred by the insured individuals.\n",
    "\n",
    "This dataset is stored in a file named **ENCS5141_Exp3_MedicalCostPersonalDatasets.csv**, which can be found in the GitHub repository located at https://github.com/mkjubran/ENCS5141Datasets.\n",
    "\n",
    "To clone the repository if you haven't already done so, execute the following code"
   ],
   "metadata": {
    "id": "r8QnbIWGptLG"
   }
  },
  {
   "cell_type": "code",
   "source": [
    "!rm -rf ./ENCS5141Datasets\n",
    "!git clone https://github.com/mkjubran/ENCS5141Datasets.git"
   ],
   "metadata": {
    "colab": {
     "base_uri": "https://localhost:8080/"
    },
    "id": "zSa7Cu1_sihf",
    "outputId": "821a33c0-9766-485a-d96a-58997b882023"
   },
   "outputs": [],
   "execution_count": null
  },
  {
   "cell_type": "markdown",
   "source": [
    "To read the file into a DataFrame and display information about the file run the following code snippet"
   ],
   "metadata": {
    "id": "Oym3BIiUud7R"
   }
  },
  {
   "cell_type": "code",
   "source": [
    "import pandas as pd\n",
    "df = pd.read_csv(\"/content/ENCS5141Datasets/ENCS5141_Exp3_MedicalCostPersonalDatasets.csv\")\n",
    "df.head()"
   ],
   "metadata": {
    "colab": {
     "base_uri": "https://localhost:8080/",
     "height": 206
    },
    "id": "kER00es1upfN",
    "outputId": "9fc1ddf2-185b-428b-9583-a8cd071ac2d1"
   },
   "outputs": [],
   "execution_count": null
  },
  {
   "cell_type": "markdown",
   "source": [
    "Use the **OneHotEncoder** from sklearn to encode the **gender** feature."
   ],
   "metadata": {
    "id": "lz28xJf-u2Ag"
   }
  },
  {
   "cell_type": "code",
   "source": [
    "# Import the necessary library for one-hot encoding\n",
    "from sklearn.preprocessing import OneHotEncoder\n",
    "\n",
    "# Create an instance of the OneHotEncoder with 'handle_unknown' set to 'ignore'\n",
    "enc = OneHotEncoder(handle_unknown='ignore')\n",
    "\n",
    "# Fit the encoder on the 'gender' column of the DataFrame\n",
    "enc.fit(df[['gender']])\n",
    "\n",
    "# Transform the 'gender' column into a one-hot encoded array and convert it to a dense array\n",
    "df_gender = enc.transform(df[['gender']]).toarray()\n",
    "\n",
    "# Create a copy of the original DataFrame to store the one-hot encoded data\n",
    "df_ohenc = df.copy()\n",
    "\n",
    "# Add the one-hot encoded columns to the new DataFrame using the encoder's categories\n",
    "df_ohenc[enc.categories_[0]] = df_gender\n",
    "\n",
    "# Display the first few rows of the new DataFrame\n",
    "df_ohenc.head()\n"
   ],
   "metadata": {
    "colab": {
     "base_uri": "https://localhost:8080/",
     "height": 206
    },
    "id": "7lVSOg5UvIx_",
    "outputId": "ca445686-9fa7-480f-e64b-921cff3ddb93"
   },
   "outputs": [],
   "execution_count": null
  },
  {
   "cell_type": "markdown",
   "source": [
    "Each category is represented by its own distinct binary column in the encoding. Remember to exclude the original 'gender' (text) feature from the encoded dataset before using it for machine learning purposes"
   ],
   "metadata": {
    "id": "aP8llgXAz098"
   }
  },
  {
   "cell_type": "markdown",
   "source": [
    "**Task 3.5**: use the OneHotEncoder from sklearn from sklearn to encode the **smoker** and **region** features."
   ],
   "metadata": {
    "id": "GBzSD--H0Inv"
   }
  },
  {
   "cell_type": "code",
   "source": [
    "#write you code here\n"
   ],
   "metadata": {
    "id": "lUXLaq7h0_n-"
   },
   "outputs": [],
   "execution_count": null
  },
  {
   "cell_type": "markdown",
   "source": [
    "**3.1.3.1 Label encoding**\n",
    "\n",
    "**Task 3.6**: use the LabelEncoder from sklearn (sklearn.preprocessing) to encode all text features in the Medical Cost Personal Dataset and observe the difference between one-hot encoding and label encoding."
   ],
   "metadata": {
    "id": "son0bKTj1AVl"
   }
  },
  {
   "cell_type": "code",
   "source": [
    "#write you code here\n"
   ],
   "metadata": {
    "id": "gLOBZBjP15HI"
   },
   "outputs": [],
   "execution_count": null
  },
  {
   "cell_type": "markdown",
   "source": "# 3.2 Handling High-Dimensional Data",
   "metadata": {
    "id": "2zW8jLW3K3Ee"
   }
  },
  {
   "cell_type": "markdown",
   "source": [
    "To tackle this challenge, various techniques and strategies are employed. In this experiment, we will specifically investigate dimensionality reduction techniques as an approach to address high-dimensional data. Our focus will be on two prominent methods for dimensionality reduction: Principal Component Analysis (PCA) and Linear Discriminant Analysis (LDA).\n",
    "\n",
    "**Principal Component Analysis (PCA)**: PCA is one of the most widely used techniques for reducing the dimensionality of data. It transforms the original features into a new set of orthogonal features called principal components. These components capture the maximum variance in the data, allowing for dimensionality reduction while retaining as much information as possible.\n",
    "\n",
    "**Linear Discriminant Analysis (LDA)**: LDA is used when the goal is not just dimensionality reduction but also class separation. It finds a linear combination of features that maximizes the distance between different classes while minimizing the variance within each class.\n",
    "\n",
    "Both PCA and LDA are dimensionality reduction techniques, PCA is unsupervised and aims to capture maximum variance, whereas LDA is supervised and focuses on maximizing class separation. The choice between PCA and LDA depends on the specific goals of your machine learning task and whether you are dealing with a classification problem."
   ],
   "metadata": {
    "id": "SoOaOpxm3SeD"
   }
  },
  {
   "cell_type": "markdown",
   "source": "## 3.2.1 Principle component Analysis",
   "metadata": {
    "id": "X5gFmSW24UOp"
   }
  },
  {
   "cell_type": "markdown",
   "source": [
    "\n",
    "**3.2.1.1 Synthetic Data**\n",
    "\n",
    "To demonstrate the PCA, let us start with synthetic data as presented in the code snippet below."
   ],
   "metadata": {
    "id": "067wTTCv4Keu"
   }
  },
  {
   "cell_type": "code",
   "source": [
    "import numpy as np\n",
    "import pandas as pd\n",
    "\n",
    "#To generate an array of floating numbers between -2 and 2\n",
    "A = np.random.random(1000)*4 - 2\n",
    "\n",
    "#To generate an array of floating numbers between -10 and 10\n",
    "B = np.random.random(1000)*20 - 10\n",
    "\n",
    "#To generate an array of floating numbers between 0 and 1\n",
    "C = np.random.random(1000)\n",
    "\n",
    "#To generate an array of floating numbers between 0 and 10\n",
    "D = np.random.random(1000)*10\n",
    "\n",
    "df = pd.DataFrame({'A':A,'B':B,'C':C,'D':D})\n",
    "df.head()"
   ],
   "metadata": {
    "colab": {
     "base_uri": "https://localhost:8080/",
     "height": 206
    },
    "id": "fZ8U_wP75Sdv",
    "outputId": "091d49e8-3fd4-4002-bd38-bd94c6579fd5"
   },
   "outputs": [],
   "execution_count": null
  },
  {
   "cell_type": "markdown",
   "source": [
    "Utilize scikit-learn's **PCA** (Principal Component Analysis) to derive PCA components from the synthetic data. In this context, we will configure the n_components parameter to yield a result of 4 components."
   ],
   "metadata": {
    "id": "GCPBqrDJ7v36"
   }
  },
  {
   "cell_type": "code",
   "source": [
    "# Import the PCA module from scikit-learn\n",
    "from sklearn.decomposition import PCA\n",
    "\n",
    "# Create an instance of PCA with n_components set to 4\n",
    "pca = PCA(n_components=4)\n",
    "\n",
    "# Fit the PCA model on the data (assuming 'df' contains your dataset)\n",
    "pca.fit(df)\n",
    "\n",
    "# Print the explained variance ratio for each selected component\n",
    "print(f\"Explained variance ratio for each PCA component are {pca.explained_variance_ratio_}\")\n",
    "\n",
    "# Transform the original DataFrame 'df' using PCA\n",
    "Array_PCA = pca.transform(df)\n",
    "\n",
    "# Create a new DataFrame 'df_PCA' from the transformed data\n",
    "df_PCA = pd.DataFrame(Array_PCA)\n",
    "\n",
    "# Display the first few rows of the new DataFrame\n",
    "df_PCA.head()"
   ],
   "metadata": {
    "colab": {
     "base_uri": "https://localhost:8080/",
     "height": 223
    },
    "id": "sSUmGcMi5iQD",
    "outputId": "55713390-ec66-4cf2-dc71-bcf7be6bf8ec"
   },
   "outputs": [],
   "execution_count": null
  },
  {
   "cell_type": "markdown",
   "source": [
    "Observing the explained variance ratio, which indicates how much of the total variance in the original dataset is accounted for by each principal component, we notice a decreasing trend. This suggests that the initial PCA components have higher variance compared to the later ones. Now, let's visualize the histograms before and after applying PCA"
   ],
   "metadata": {
    "id": "dOtilkL78Ejb"
   }
  },
  {
   "cell_type": "code",
   "source": [
    "import matplotlib.pyplot as plt\n",
    "import seaborn as sns\n",
    "fig, axs = plt.subplots(figsize=(18, 5),ncols=4,nrows=2)\n",
    "\n",
    "sns.histplot(data=df, x=\"A\", ax=axs[0,0], kde=True);axs[0,0].set_title(f\"Original A\")\n",
    "sns.histplot(data=df, x=\"B\", ax=axs[0,1], kde=True);axs[0,1].set_title(f\"Original B\")\n",
    "sns.histplot(data=df, x=\"C\", ax=axs[0,2], kde=True);axs[0,2].set_title(f\"Original C\")\n",
    "sns.histplot(data=df, x=\"D\", ax=axs[0,3], kde=True);axs[0,3].set_title(f\"Original D\")\n",
    "\n",
    "sns.histplot(data=df_PCA, x=0, ax=axs[1,0], kde=True);axs[1,0].set_title(f\"PCA 1'st Component\")\n",
    "sns.histplot(data=df_PCA, x=1, ax=axs[1,1], kde=True);axs[1,1].set_title(f\"PCA 2'nd Component\")\n",
    "sns.histplot(data=df_PCA, x=2, ax=axs[1,2], kde=True);axs[1,2].set_title(f\"PCA 3'rd Component\")\n",
    "sns.histplot(data=df_PCA, x=3, ax=axs[1,3], kde=True);axs[1,3].set_title(f\"PCA 4'th Component\")\n",
    "\n",
    "fig.subplots_adjust(hspace=1)"
   ],
   "metadata": {
    "colab": {
     "base_uri": "https://localhost:8080/",
     "height": 487
    },
    "id": "k_ns36zC6qJe",
    "outputId": "a8ad5a21-3608-4800-b28f-a43b0c8c0ce3"
   },
   "outputs": [],
   "execution_count": null
  },
  {
   "cell_type": "markdown",
   "source": [
    "Notice that the distribution of features in the original data differs from that of the PCA components. Additionally, observe the range of values in the PCA components, where the first component covers a wider range than the second, and this pattern continues for the other PCA components."
   ],
   "metadata": {
    "id": "AmqQ3JdL-b6C"
   }
  },
  {
   "cell_type": "markdown",
   "source": [
    "\n",
    "**Task 3.7**: Modify the numer of components to be preserved by PCA in the previous code and examine the outcomes."
   ],
   "metadata": {
    "id": "NN_X416m-8bq"
   }
  },
  {
   "cell_type": "markdown",
   "source": [
    "**3.2.1.2 \"Digits\" Dataset**\n",
    "\n",
    "To assess the influence of PCA on machine learning, we will evaluate and compare the performance of machine learning models with and without employing PCA for feature processing. We will load the \"Digits\" dataset from sklearn. This dataset is a commonly employed for practicing classification algorithms. Here are the key characteristics of the Digits dataset:\n",
    "- **Data Source**: The dataset consists of 8x8 pixel images of handwritten digits (0 through 9). These images are grayscale and were originally collected from different individuals.\n",
    "- **Data Format**: Each image is represented as an 8x8 matrix of pixel values. In scikit-learn, these matrices are flattened into 64-element feature vectors, where each element represents the intensity of a pixel (ranging from 0 to 16).\n",
    "- **Target Labels**: For each image, there is a corresponding label (target) that indicates the digit it represents (0 through 9). These labels are commonly used for classification tasks, where the goal is to train a machine learning model to recognize handwritten digits.\n",
    "\n",
    "In this context, we will employ the **train_test_split()** method to partition the dataset into training and testing datasets. Subsequently, we will utilize the training data to train the random forest classifier. Following the training, we will assess the testing accuracies (classification correctness) before and after PCA. More comprehensive details regarding the random forest classifier and the training and evaluation processes will be discussed in future experiments."
   ],
   "metadata": {
    "id": "KeNzqbfB_gEn"
   }
  },
  {
   "cell_type": "code",
   "source": [
    "from sklearn.decomposition import PCA\n",
    "from sklearn.datasets import load_digits\n",
    "from sklearn.model_selection import train_test_split\n",
    "from sklearn.ensemble import RandomForestClassifier\n",
    "from sklearn.metrics import accuracy_score\n",
    "\n",
    "# Load the Digits dataset\n",
    "digits = load_digits()\n",
    "X, y = digits.data, digits.target\n",
    "\n",
    "# Split the dataset into training and testing sets\n",
    "X_train, X_test, y_train, y_test = train_test_split(X, y, test_size=0.2, random_state=42)\n",
    "\n",
    "# Train a classifier on the original features and evaluate\n",
    "clf = RandomForestClassifier(random_state=42)\n",
    "clf.fit(X_train, y_train)\n",
    "y_pred = clf.predict(X_test)\n",
    "accuracy = accuracy_score(y_test, y_pred)\n",
    "\n",
    "# Create PCA instance and fit to the data\n",
    "pca = PCA(n_components=8)  # Specify the number of components\n",
    "X_train_pca = pca.fit_transform(X_train)\n",
    "X_test_pca = pca.transform(X_test)\n",
    "\n",
    "# Train a classifier on the retained PCA components and evaluate\n",
    "clf = RandomForestClassifier(random_state=42)\n",
    "clf.fit(X_train_pca, y_train)\n",
    "y_pred = clf.predict(X_test_pca)\n",
    "accuracy_variance = accuracy_score(y_test, y_pred)\n",
    "\n",
    "# Print the explained variance ratio for each selected component\n",
    "print(f\"Explained variance ratio for each PCA component: {pca.explained_variance_ratio_}\")\n",
    "\n",
    "print(f\"Number of original features: {X_train.shape[1]}\")\n",
    "print(f\"Number of features retained after PCA: {X_train_pca.shape[1]}\")\n",
    "print(f\"Accuracy of Original features (testing accuracy): {accuracy}\")\n",
    "print(f\"Accuracy after PCA (testing accuracy): {accuracy_variance}\")"
   ],
   "metadata": {
    "colab": {
     "base_uri": "https://localhost:8080/"
    },
    "id": "LuADzuIeB280",
    "outputId": "35399914-777a-4032-e066-3ed133b9558c"
   },
   "outputs": [],
   "execution_count": null
  },
  {
   "cell_type": "markdown",
   "source": [
    "**Task 3.8**: Adjust the number of components to be retained by PCA in the code snippet for classifying images in the Digits dataset and observe how it affects the classification accuracy."
   ],
   "metadata": {
    "id": "g0S9izvdGDVo"
   }
  },
  {
   "cell_type": "markdown",
   "source": [
    "**Task 3.9**: In this task, you will reinforce the knowledge acquired during the experiment concerning the impact of applying PCA on machine learning. You will be working with the \"Faces in the Wild\" (LFW) dataset. The LFW dataset is a widely recognized benchmark dataset within the domains of computer vision and machine learning, primarily used for face recognition tasks. It comprises a collection of grayscale images featuring human faces, with each image associated with the identity of the depicted individual.\n",
    "\n",
    "Once you have loaded the dataset, your objective is to implement the following steps:\n",
    "1. Split the dataset into training and testing subsets.\n",
    "2. Train a random forest model using the training data.\n",
    "3. Assess the model's accuracy by evaluating its performance on the testing data.\n",
    "4. Apply PCA with a specified number of components, such as n=8.\n",
    "5. Train and evaluate the random forest model using the retained PCA components.\n",
    "6. Experiment with different numbers of retained PCA components and provide insights based on your observations.\n",
    "\n",
    "\n",
    "You can load the LFW dataset using the provided code snippet."
   ],
   "metadata": {
    "id": "Fph-du2gGfFM"
   }
  },
  {
   "cell_type": "code",
   "source": [
    "from sklearn.datasets import fetch_lfw_people\n",
    "\n",
    "lfw_dataset = fetch_lfw_people(min_faces_per_person=70, resize=0.4)\n",
    "\n",
    "# Extract the data and target labels\n",
    "X = lfw_dataset.data\n",
    "y = lfw_dataset.target"
   ],
   "metadata": {
    "id": "5EUfEBkLG7tf"
   },
   "outputs": [],
   "execution_count": null
  },
  {
   "cell_type": "code",
   "source": [
    "#write you code here\n"
   ],
   "metadata": {
    "id": "fxCcsomRJaZv"
   },
   "outputs": [],
   "execution_count": null
  }
 ]
}
