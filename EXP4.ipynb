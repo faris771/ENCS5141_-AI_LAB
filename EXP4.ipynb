{
 "cells": [
  {
   "metadata": {},
   "cell_type": "markdown",
   "source": [
    "# Faris Abufarha\n",
    "# 1200546"
   ],
   "id": "1829f8c1bb0a74ea"
  },
  {
   "metadata": {
    "ExecuteTime": {
     "end_time": "2024-07-24T11:21:36.359353Z",
     "start_time": "2024-07-24T11:21:34.030102Z"
    }
   },
   "cell_type": "code",
   "source": "! pip install -U scikit-learn",
   "id": "81ee781b610b07b9",
   "outputs": [
    {
     "name": "stdout",
     "output_type": "stream",
     "text": [
      "Defaulting to user installation because normal site-packages is not writeable\r\n",
      "Requirement already satisfied: scikit-learn in /home/faris/.local/lib/python3.10/site-packages (1.5.1)\r\n",
      "Requirement already satisfied: numpy>=1.19.5 in /home/faris/.local/lib/python3.10/site-packages (from scikit-learn) (1.25.2)\r\n",
      "Requirement already satisfied: scipy>=1.6.0 in /home/faris/.local/lib/python3.10/site-packages (from scikit-learn) (1.11.3)\r\n",
      "Requirement already satisfied: joblib>=1.2.0 in /home/faris/.local/lib/python3.10/site-packages (from scikit-learn) (1.3.2)\r\n",
      "Requirement already satisfied: threadpoolctl>=3.1.0 in /home/faris/.local/lib/python3.10/site-packages (from scikit-learn) (3.2.0)\r\n"
     ]
    }
   ],
   "execution_count": 1
  },
  {
   "metadata": {
    "ExecuteTime": {
     "end_time": "2024-07-24T11:22:21.019675Z",
     "start_time": "2024-07-24T11:22:17.643020Z"
    }
   },
   "cell_type": "code",
   "source": [
    "!python3 -m pip show scikit-learn # to see which version and wherescikit-learn is installed\n",
    "!python3 -m pip freeze # to see all packages installed in the active virtualenv\n",
    "!python3 -c \"import sklearn; sklearn.show_versions()\""
   ],
   "id": "27fbe0bde1f352a0",
   "outputs": [
    {
     "name": "stdout",
     "output_type": "stream",
     "text": [
      "Name: scikit-learn\r\n",
      "Version: 1.5.1\r\n",
      "Summary: A set of python modules for machine learning and data mining\r\n",
      "Home-page: https://scikit-learn.org\r\n",
      "Author: \r\n",
      "Author-email: \r\n",
      "License: new BSD\r\n",
      "Location: /home/faris/.local/lib/python3.10/site-packages\r\n",
      "Requires: joblib, numpy, scipy, threadpoolctl\r\n",
      "Required-by: feature-engine, imbalanced-learn, lazypredict\r\n",
      "aiohttp==3.8.1\r\n",
      "aiosignal==1.2.0\r\n",
      "alabaster==0.7.12\r\n",
      "anyio==4.0.0\r\n",
      "appdirs==1.4.4\r\n",
      "apturl==0.5.2\r\n",
      "argon2-cffi==23.1.0\r\n",
      "argon2-cffi-bindings==21.2.0\r\n",
      "arrow==1.2.3\r\n",
      "astroid==2.9.3\r\n",
      "asttokens==2.4.0\r\n",
      "async-lru==2.0.4\r\n",
      "async-timeout==4.0.1\r\n",
      "atomicwrites==1.4.0\r\n",
      "attrs==23.1.0\r\n",
      "autopep8==1.6.0\r\n",
      "Babel==2.12.1\r\n",
      "backcall==0.2.0\r\n",
      "bcrypt==3.2.0\r\n",
      "beautifulsoup4==4.12.2\r\n",
      "beniget==0.4.1\r\n",
      "black==21.10b0\r\n",
      "bleach==6.0.0\r\n",
      "blinker==1.4\r\n",
      "Brlapi==0.8.3\r\n",
      "Brotli==1.0.9\r\n",
      "certifi==2020.6.20\r\n",
      "cffi==1.15.1\r\n",
      "chardet==4.0.0\r\n",
      "charset-normalizer==3.2.0\r\n",
      "chrome-gnome-shell==0.0.0\r\n",
      "click==8.0.3\r\n",
      "cloudpickle==2.0.0\r\n",
      "colorama==0.4.4\r\n",
      "comm==0.1.4\r\n",
      "command-not-found==0.3\r\n",
      "contourpy==1.1.1\r\n",
      "cryptography==3.4.8\r\n",
      "cupshelpers==1.0\r\n",
      "cycler==0.12.1\r\n",
      "dbus-python==1.2.18\r\n",
      "debugpy==1.7.0\r\n",
      "decorator==5.1.1\r\n",
      "defer==1.0.6\r\n",
      "defusedxml==0.7.1\r\n",
      "diff-match-patch==20200713\r\n",
      "distro==1.7.0\r\n",
      "distro-info==1.1+ubuntu0.2\r\n",
      "docutils==0.17.1\r\n",
      "duplicity==0.8.21\r\n",
      "entrypoints==0.4\r\n",
      "exceptiongroup==1.1.3\r\n",
      "executing==1.2.0\r\n",
      "fasteners==0.14.1\r\n",
      "fastjsonschema==2.18.0\r\n",
      "feature-engine==1.8.0\r\n",
      "fonttools==4.43.1\r\n",
      "fqdn==1.5.1\r\n",
      "frozenlist==1.2.0\r\n",
      "fs==2.4.12\r\n",
      "future==0.18.2\r\n",
      "gast==0.5.2\r\n",
      "gyp==0.1\r\n",
      "helpdev==0.7.1\r\n",
      "html5lib==1.1\r\n",
      "httplib2==0.20.2\r\n",
      "idna==3.3\r\n",
      "imagesize==1.3.0\r\n",
      "imbalanced-learn==0.11.0\r\n",
      "imblearn==0.0\r\n",
      "importlib-metadata==4.6.4\r\n",
      "intervaltree==3.0.2\r\n",
      "ipykernel==6.25.2\r\n",
      "ipython==8.15.0\r\n",
      "ipython-genutils==0.2.0\r\n",
      "ipywidgets==8.1.0\r\n",
      "isoduration==20.11.0\r\n",
      "isort==5.6.4\r\n",
      "jedi==0.19.0\r\n",
      "jeepney==0.7.1\r\n",
      "Jinja2==3.1.2\r\n",
      "joblib==1.3.2\r\n",
      "json5==0.9.14\r\n",
      "jsonpointer==2.4\r\n",
      "jsonschema==4.19.0\r\n",
      "jsonschema-specifications==2023.7.1\r\n",
      "jupyter==1.0.0\r\n",
      "jupyter-console==6.6.3\r\n",
      "jupyter-events==0.7.0\r\n",
      "jupyter-lsp==2.2.0\r\n",
      "jupyter_client==8.3.1\r\n",
      "jupyter_core==5.3.1\r\n",
      "jupyter_server==2.7.3\r\n",
      "jupyter_server_terminals==0.4.4\r\n",
      "jupyterlab==4.0.5\r\n",
      "jupyterlab-pygments==0.2.2\r\n",
      "jupyterlab-widgets==3.0.8\r\n",
      "jupyterlab_server==2.24.0\r\n",
      "keyring==23.5.0\r\n",
      "kiwisolver==1.4.5\r\n",
      "language-selector==0.1\r\n",
      "launchpadlib==1.10.16\r\n",
      "lazr.restfulclient==0.14.4\r\n",
      "lazr.uri==1.0.6\r\n",
      "lazy-object-proxy==0.0.0\r\n",
      "lazypredict==0.2.12\r\n",
      "lightgbm==4.2.0\r\n",
      "lockfile==0.12.2\r\n",
      "logilab-common==1.8.2\r\n",
      "louis==3.20.0\r\n",
      "lxml==4.8.0\r\n",
      "lz4==3.1.3+dfsg\r\n",
      "macaroonbakery==1.3.1\r\n",
      "Mako==1.1.3\r\n",
      "MarkupSafe==2.0.1\r\n",
      "matplotlib==3.9.1\r\n",
      "matplotlib-inline==0.1.6\r\n",
      "mccabe==0.6.1\r\n",
      "mercurial==6.1.1\r\n",
      "mistune==3.0.1\r\n",
      "mock==4.0.3\r\n",
      "monotonic==1.6\r\n",
      "more-itertools==8.10.0\r\n",
      "mpmath==0.0.0\r\n",
      "multidict==5.1.0\r\n",
      "mypy-extensions==0.4.3\r\n",
      "natsort==8.0.2\r\n",
      "nbclient==0.8.0\r\n",
      "nbconvert==7.8.0\r\n",
      "nbformat==5.9.2\r\n",
      "nest-asyncio==1.5.7\r\n",
      "netifaces==0.11.0\r\n",
      "notebook==7.0.3\r\n",
      "notebook_shim==0.2.3\r\n",
      "numpy==1.25.2\r\n",
      "numpydoc==1.2\r\n",
      "oauthlib==3.2.0\r\n",
      "olefile==0.46\r\n",
      "opencv-python==4.8.1.78\r\n",
      "overrides==7.4.0\r\n",
      "packaging==23.1\r\n",
      "pandas==2.2.2\r\n",
      "pandocfilters==1.5.0\r\n",
      "paramiko==2.9.3\r\n",
      "parso==0.8.3\r\n",
      "pathspec==0.9.0\r\n",
      "patsy==0.5.6\r\n",
      "pbr==5.8.0\r\n",
      "pep8==1.7.1\r\n",
      "pexpect==4.8.0\r\n",
      "pickleshare==0.7.5\r\n",
      "Pillow==9.0.1\r\n",
      "platformdirs==3.10.0\r\n",
      "pluggy==0.13.0\r\n",
      "ply==3.11\r\n",
      "prometheus-client==0.17.1\r\n",
      "prompt-toolkit==3.0.39\r\n",
      "protobuf==3.12.4\r\n",
      "proton-core==0.1.16\r\n",
      "proton-keyring-linux==0.0.1\r\n",
      "proton-keyring-linux-secretservice==0.0.1\r\n",
      "proton-vpn-api-core==0.21.0\r\n",
      "proton-vpn-connection==0.14.2\r\n",
      "proton-vpn-gtk-app==4.2.0\r\n",
      "proton-vpn-killswitch==0.4.0\r\n",
      "proton-vpn-killswitch-network-manager==0.4.3\r\n",
      "proton-vpn-logger==0.2.1\r\n",
      "proton-vpn-network-manager==0.4.0\r\n",
      "proton-vpn-network-manager-openvpn==0.0.4\r\n",
      "proton-vpn-session==0.6.5\r\n",
      "psutil==5.9.5\r\n",
      "ptyprocess==0.7.0\r\n",
      "pure-eval==0.2.2\r\n",
      "py==1.10.0\r\n",
      "pycairo==1.20.1\r\n",
      "pycodestyle==2.8.0\r\n",
      "pycparser==2.21\r\n",
      "pycups==2.0.1\r\n",
      "pydocstyle==6.1.1\r\n",
      "pyflakes==2.4.0\r\n",
      "Pygments==2.16.1\r\n",
      "PyGObject==3.42.1\r\n",
      "PyJWT==2.3.0\r\n",
      "pylint==2.12.2\r\n",
      "pyls-black==0.4.6\r\n",
      "pyls-spyder==0.4.0\r\n",
      "pymacaroons==0.13.0\r\n",
      "PyNaCl==1.5.0\r\n",
      "pyOpenSSL==21.0.0\r\n",
      "pyparsing==2.4.7\r\n",
      "PyQt5==5.15.6\r\n",
      "PyQt5-sip==12.9.1\r\n",
      "PyQtWebEngine==5.15.5\r\n",
      "pyRFC3339==1.1\r\n",
      "pyrsistent==0.18.1\r\n",
      "pyserial==3.5\r\n",
      "pysvn==1.9.15\r\n",
      "python-apt==2.4.0+ubuntu3\r\n",
      "python-dateutil==2.8.2\r\n",
      "python-debian==0.1.43+ubuntu1.1\r\n",
      "python-gnupg==0.4.8\r\n",
      "python-json-logger==2.0.7\r\n",
      "python-jsonrpc-server==0.4.0\r\n",
      "python-language-server==0.36.2\r\n",
      "python-lsp-jsonrpc==1.0.0\r\n",
      "python-lsp-server==1.3.3\r\n",
      "pythran==0.10.0\r\n",
      "pytz==2022.1\r\n",
      "pyxdg==0.27\r\n",
      "PyYAML==5.4.1\r\n",
      "pyzmq==25.1.1\r\n",
      "QDarkStyle==2.8.1\r\n",
      "QtAwesome==1.1.1\r\n",
      "qtconsole==5.4.4\r\n",
      "QtPy==2.4.0\r\n",
      "referencing==0.30.2\r\n",
      "reportlab==3.6.8\r\n",
      "requests==2.31.0\r\n",
      "rfc3339-validator==0.1.4\r\n",
      "rfc3986-validator==0.1.1\r\n",
      "roman==3.3\r\n",
      "rope==0.22.0\r\n",
      "rpds-py==0.10.2\r\n",
      "scikit-learn==1.5.1\r\n",
      "scipy==1.11.3\r\n",
      "seaborn==0.13.1\r\n",
      "SecretStorage==3.3.1\r\n",
      "Send2Trash==1.8.2\r\n",
      "six==1.16.0\r\n",
      "sniffio==1.3.0\r\n",
      "snowballstemmer==2.2.0\r\n",
      "sortedcontainers==2.1.0\r\n",
      "soupsieve==2.5\r\n",
      "Sphinx==4.3.2\r\n",
      "spyder==4.2.1\r\n",
      "spyder-kernels==1.10.2\r\n",
      "stack-data==0.6.2\r\n",
      "statsmodels==0.14.2\r\n",
      "sympy==1.9\r\n",
      "systemd-python==234\r\n",
      "tabulate==0.8.9\r\n",
      "terminado==0.17.1\r\n",
      "testpath==0.5.0\r\n",
      "textdistance==4.2.2\r\n",
      "threadpoolctl==3.2.0\r\n",
      "three-merge==0.1.1\r\n",
      "tinycss2==1.2.1\r\n",
      "toml==0.10.2\r\n",
      "tomli==2.0.1\r\n",
      "tornado==6.3.3\r\n",
      "tqdm==4.66.1\r\n",
      "traitlets==5.9.0\r\n",
      "typing_extensions==4.7.1\r\n",
      "tzdata==2023.3\r\n",
      "ubuntu-advantage-tools==8001\r\n",
      "ubuntu-drivers-common==0.0.0\r\n",
      "ufoLib2==0.13.1\r\n",
      "ufw==0.36.1\r\n",
      "ujson==5.1.0\r\n",
      "unattended-upgrades==0.1\r\n",
      "unicodedata2==14.0.0\r\n",
      "uri-template==1.3.0\r\n",
      "urllib3==1.26.5\r\n",
      "usb-creator==0.3.7\r\n",
      "validators==0.22.0\r\n",
      "vboxapi==1.0\r\n",
      "wadllib==1.3.6\r\n",
      "watchdog==2.1.6\r\n",
      "wcwidth==0.2.6\r\n",
      "webcolors==1.13\r\n",
      "webencodings==0.5.1\r\n",
      "websocket-client==1.6.2\r\n",
      "widgetsnbextension==4.0.8\r\n",
      "wrapt==1.13.3\r\n",
      "wurlitzer==3.0.2\r\n",
      "wxPython==4.0.7\r\n",
      "xdg==5\r\n",
      "xgboost==2.0.3\r\n",
      "xkit==0.0.0\r\n",
      "yapf==0.32.0\r\n",
      "yarl==1.7.2\r\n",
      "zipp==1.0.0\r\n",
      "\r\n",
      "System:\r\n",
      "    python: 3.10.12 (main, Nov 20 2023, 15:14:05) [GCC 11.4.0]\r\n",
      "executable: /usr/bin/python3\r\n",
      "   machine: Linux-6.5.0-35-generic-x86_64-with-glibc2.35\r\n",
      "\r\n",
      "Python dependencies:\r\n",
      "      sklearn: 1.5.1\r\n",
      "          pip: 24.1.2\r\n",
      "   setuptools: 68.2.0\r\n",
      "        numpy: 1.25.2\r\n",
      "        scipy: 1.11.3\r\n",
      "       Cython: None\r\n",
      "       pandas: 2.2.2\r\n",
      "   matplotlib: 3.9.1\r\n",
      "       joblib: 1.3.2\r\n",
      "threadpoolctl: 3.2.0\r\n",
      "\r\n",
      "Built with OpenMP: True\r\n",
      "\r\n",
      "threadpoolctl info:\r\n",
      "       user_api: blas\r\n",
      "   internal_api: openblas\r\n",
      "    num_threads: 4\r\n",
      "         prefix: libopenblas\r\n",
      "       filepath: /home/faris/.local/lib/python3.10/site-packages/numpy.libs/libopenblas64_p-r0-5007b62f.3.23.dev.so\r\n",
      "        version: 0.3.23.dev\r\n",
      "threading_layer: pthreads\r\n",
      "   architecture: Haswell\r\n",
      "\r\n",
      "       user_api: blas\r\n",
      "   internal_api: openblas\r\n",
      "    num_threads: 4\r\n",
      "         prefix: libopenblas\r\n",
      "       filepath: /home/faris/.local/lib/python3.10/site-packages/scipy.libs/libopenblasp-r0-23e5df77.3.21.dev.so\r\n",
      "        version: 0.3.21.dev\r\n",
      "threading_layer: pthreads\r\n",
      "   architecture: Haswell\r\n",
      "\r\n",
      "       user_api: openmp\r\n",
      "   internal_api: openmp\r\n",
      "    num_threads: 4\r\n",
      "         prefix: libgomp\r\n",
      "       filepath: /home/faris/.local/lib/python3.10/site-packages/scikit_learn.libs/libgomp-a34b3233.so.1.0.0\r\n",
      "        version: None\r\n"
     ]
    }
   ],
   "execution_count": 3
  },
  {
   "metadata": {},
   "cell_type": "markdown",
   "source": [
    "# 1.1 Regression\n",
    "Regression is a statistical technique that relates a continuous dependent variable to\n",
    "one or more independent variables. In this part, we will fit different regression models\n",
    "on a toy dataset."
   ],
   "id": "a7dd2ea74d61e935"
  },
  {
   "metadata": {},
   "cell_type": "markdown",
   "source": [
    "## 1.1.1 Generating examples\n",
    "We will start by generating a toy dataset. Generate 40 examples using the following\n",
    "function\n",
    "f (x) = sin(x) + ϵ,\n",
    "where ϵ is sampled from a normal distribution with standard deviation 0.1, and\n",
    "x ∈ [0, 1). Split the samples to into two equal sets: training set, and testing set."
   ],
   "id": "54a5df79a1660730"
  },
  {
   "metadata": {
    "ExecuteTime": {
     "end_time": "2024-07-24T11:36:12.494743Z",
     "start_time": "2024-07-24T11:36:12.488170Z"
    }
   },
   "cell_type": "code",
   "source": [
    "import numpy as np\n",
    "def true_fun(X):\n",
    "    return np.sin(1.5 * np.pi * X)\n"
   ],
   "id": "a775a93eb3d5e906",
   "outputs": [],
   "execution_count": 4
  },
  {
   "metadata": {
    "ExecuteTime": {
     "end_time": "2024-07-24T11:36:18.589139Z",
     "start_time": "2024-07-24T11:36:18.579817Z"
    }
   },
   "cell_type": "code",
   "source": [
    "np.random.seed(0)\n",
    "n_samples = 40\n",
    "X = np.random.rand(n_samples)\n",
    "\n",
    "X_train = np.sort(X[:n_samples//2])\n",
    "y_train = true_fun(X_train) + np.random.randn(n_samples//2) * 0.1\n",
    "\n",
    "X_test = np.sort(X[n_samples//2:])\n",
    "y_test = true_fun(X_test) + np.random.randn(n_samples//2) * 0.1"
   ],
   "id": "9fab5d6943600b4c",
   "outputs": [],
   "execution_count": 5
  },
  {
   "metadata": {},
   "cell_type": "markdown",
   "source": [
    "Plot both the training and testing examples in a scatter plot and show the true\n",
    "function curve for the range [0, 1)."
   ],
   "id": "2dbd5ea5b3483166"
  },
  {
   "metadata": {
    "ExecuteTime": {
     "end_time": "2024-07-24T11:38:06.577939Z",
     "start_time": "2024-07-24T11:38:06.071985Z"
    }
   },
   "cell_type": "code",
   "source": [
    "import matplotlib.pyplot as plt\n",
    "x = np.linspace(0, 1, 100)\n",
    "plt.plot(x, true_fun(x), label=\"True function\")\n",
    "plt.scatter(X_train, y_train, edgecolor=\"b\", s=20, label=\"Train Examples\")\n",
    "plt.scatter(X_test, y_test, edgecolor=\"r\", s=20, label=\"Test Examples\")\n",
    "plt.xlabel(\"x\")\n",
    "plt.ylabel(\"y\")\n",
    "plt.xlim((0, 1))\n",
    "plt.ylim((-1.5, 1.5))\n",
    "plt.legend(loc=\"best\")\n",
    "plt.title(\"Toy Dataset\")\n",
    "plt.show()"
   ],
   "id": "f51d1a58efc420fa",
   "outputs": [
    {
     "data": {
      "text/plain": [
       "<Figure size 640x480 with 1 Axes>"
      ],
      "image/png": "[encoded data removed]"
     },
     "metadata": {},
     "output_type": "display_data"
    }
   ],
   "execution_count": 7
  },
  {
   "metadata": {},
   "cell_type": "markdown",
   "source": [
    "## 1.1.2 Linear regression\n",
    "Let’s begin with a simple linear regression model. I.e., we will fit a line to the training\n",
    "set of the form\n",
    "\n",
    "h(x) = wo + w1x\n",
    "\n",
    "where x is the input feature, w0 is the intercept of the fitted line, and w1 is its slope.\n",
    "We will use the linear regression implementation from sklearn to get our model. Plot\n",
    "the fitted line."
   ],
   "id": "452ebd6a66e34078"
  },
  {
   "metadata": {
    "ExecuteTime": {
     "end_time": "2024-07-24T11:44:05.214593Z",
     "start_time": "2024-07-24T11:44:04.127311Z"
    }
   },
   "cell_type": "code",
   "source": [
    "from sklearn.linear_model import LinearRegression\n",
    "linear_regression = LinearRegression()\n",
    "linear_regression.fit(X_train[:, np.newaxis], y_train)\n",
    "plt.plot(x, true_fun(x), label=\"True function\")\n",
    "plt.scatter(X_train, y_train, edgecolor=\"b\", s=20, label=\"Train Examples\")\n",
    "plt.plot(x, linear_regression.predict(x[:, np.newaxis]), label=\"Model\")\n",
    "plt.xlabel(\"x\")\n",
    "plt.ylabel(\"y\")\n",
    "plt.xlim((0, 1))\n",
    "plt.ylim((-1.5, 1.5))\n",
    "plt.legend(loc=\"best\")\n",
    "plt.title(\"Linear regression\")\n",
    "plt.show()"
   ],
   "id": "14911251d5133d78",
   "outputs": [
    {
     "data": {
      "text/plain": [
       "<Figure size 640x480 with 1 Axes>"
      ],
      "image/png": "[encoded data removed]"
     },
     "metadata": {},
     "output_type": "display_data"
    }
   ],
   "execution_count": 8
  },
  {
   "metadata": {},
   "cell_type": "markdown",
   "source": "Task 1: Compute the **mean squared error** of the learned linear model on the test set.",
   "id": "78013c364dff8ca5"
  },
  {
   "metadata": {
    "ExecuteTime": {
     "end_time": "2024-07-24T11:53:27.586354Z",
     "start_time": "2024-07-24T11:53:27.579887Z"
    }
   },
   "cell_type": "code",
   "source": [
    "from sklearn.metrics import mean_squared_error\n",
    "\n",
    "X_test = X_test[:, np.newaxis]  # Ensure X_test is reshaped correctly\n",
    "\n",
    "y_pred = linear_regression.predict(X_test)\n",
    "mse = mean_squared_error(y_test, y_pred)\n",
    "\n",
    "print(\"Mean Squared Error on the test set:\", mse)\n",
    "\n"
   ],
   "id": "1a8ae8096bfa75ea",
   "outputs": [
    {
     "name": "stdout",
     "output_type": "stream",
     "text": [
      "Mean Squared Error on the test set: 0.1736489094130998\n"
     ]
    }
   ],
   "execution_count": 10
  },
  {
   "metadata": {},
   "cell_type": "markdown",
   "source": [
    "## 1.1.3 Polynomial regression\n",
    "The linear model we got in the previous part is too simple to explain the data. In\n",
    "this part we will use more complex models. Let’s start with a quadratic function of\n",
    "the form\n",
    "\n",
    "h(x) = wo + w1 x + w2 x2 ,\n",
    "\n",
    "To get the non-linear basis functions for the quadratic model, we will use Polyno-\n",
    "mialFeatures from sklearn"
   ],
   "id": "3f244c7ad3d3d8f"
  },
  {
   "metadata": {},
   "cell_type": "code",
   "outputs": [],
   "execution_count": null,
   "source": "",
   "id": "c8d5c1ae27af2693"
  },
  {
   "metadata": {},
   "cell_type": "code",
   "outputs": [],
   "execution_count": null,
   "source": "",
   "id": "3db1bc415c950d71"
  },
  {
   "metadata": {},
   "cell_type": "code",
   "outputs": [],
   "execution_count": null,
   "source": "",
   "id": "9258e6cd0988fd1e"
  },
  {
   "metadata": {},
   "cell_type": "code",
   "outputs": [],
   "execution_count": null,
   "source": "",
   "id": "a3acd857398543b2"
  },
  {
   "metadata": {},
   "cell_type": "code",
   "outputs": [],
   "execution_count": null,
   "source": "",
   "id": "51cccd16ecc6ad64"
  }
 ],
 "metadata": {
  "kernelspec": {
   "display_name": "Python 3",
   "language": "python",
   "name": "python3"
  },
  "language_info": {
   "codemirror_mode": {
    "name": "ipython",
    "version": 2
   },
   "file_extension": ".py",
   "mimetype": "text/x-python",
   "name": "python",
   "nbconvert_exporter": "python",
   "pygments_lexer": "ipython2",
   "version": "2.7.6"
  }
 },
 "nbformat": 4,
 "nbformat_minor": 5
}
